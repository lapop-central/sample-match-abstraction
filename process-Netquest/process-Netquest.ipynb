{
 "cells": [
  {
   "cell_type": "code",
   "execution_count": 1,
   "metadata": {},
   "outputs": [],
   "source": [
    "import pandas as pd\n",
    "from fuzzywuzzy import fuzz, process\n",
    "import re\n",
    "import numpy as np\n",
    "import os"
   ]
  },
  {
   "cell_type": "markdown",
   "metadata": {},
   "source": [
    "## The panelists by country"
   ]
  },
  {
   "cell_type": "markdown",
   "metadata": {},
   "source": [
    "Reading in the panel information Netquest gave us."
   ]
  },
  {
   "cell_type": "code",
   "execution_count": 2,
   "metadata": {},
   "outputs": [
    {
     "name": "stderr",
     "output_type": "stream",
     "text": [
      "C:\\Users\\schadem\\AppData\\Local\\Continuum\\anaconda3\\lib\\site-packages\\IPython\\core\\interactiveshell.py:3020: DtypeWarning: Columns (185) have mixed types. Specify dtype option on import or set low_memory=False.\n",
      "  interactivity=interactivity, compiler=compiler, result=result)\n"
     ]
    }
   ],
   "source": [
    "panels = pd.read_csv(\"../Data/AR/panel/190912/VANDUS 1147438_W3_20190912.csv\",\n",
    "                     sep=';', \n",
    "#                      skiprows=2891450,\n",
    "#                      nrows=1000000,\n",
    "                     na_values=[' ','.'], \n",
    "                     encoding='latin1',\n",
    "                     #error_bad_lines=False\n",
    "                    )"
   ]
  },
  {
   "cell_type": "code",
   "execution_count": 3,
   "metadata": {
    "scrolled": true
   },
   "outputs": [
    {
     "data": {
      "text/plain": [
       "Index(['p_codigo', 'p_sexo', 'panelistAge', 'pv_fecha_modificacion', 'pais',\n",
       "       'BR_estado', 'BR_cidade', 'CO_departamento', 'CO_municipio',\n",
       "       'MX_estado',\n",
       "       ...\n",
       "       'P12', 'P13', 'CLCSOCIAL2012', 'CLCSOCIAL2015', 'CLCSOCIAL2018',\n",
       "       'MXCSOCIAL2018', 'AR_provincia', 'AR_localidad', 'Códigopostal',\n",
       "       'AR_departamento'],\n",
       "      dtype='object', length=187)"
      ]
     },
     "execution_count": 3,
     "metadata": {},
     "output_type": "execute_result"
    }
   ],
   "source": [
    "panels.columns"
   ]
  },
  {
   "cell_type": "markdown",
   "metadata": {},
   "source": [
    "Creating a dictionary of individual country dataframes, and cleaning them up"
   ]
  },
  {
   "cell_type": "code",
   "execution_count": 4,
   "metadata": {},
   "outputs": [],
   "source": [
    "panels_dict = {}\n",
    "for p in panels.pais.unique():\n",
    "    panels_dict[p] = panels[panels.pais==p]#.dropna(axis=1,how='all')"
   ]
  },
  {
   "cell_type": "code",
   "execution_count": 5,
   "metadata": {},
   "outputs": [
    {
     "data": {
      "text/plain": [
       "dict_keys(['AR'])"
      ]
     },
     "execution_count": 5,
     "metadata": {},
     "output_type": "execute_result"
    }
   ],
   "source": [
    "panels_dict.keys()"
   ]
  },
  {
   "cell_type": "code",
   "execution_count": 6,
   "metadata": {},
   "outputs": [],
   "source": [
    "for pais, data in panels_dict.items():\n",
    "    if not os.path.isdir(\"../Data/\"+pais):\n",
    "        os.mkdir(\"../Data/\"+pais)\n",
    "    data.to_csv(\"../Data/\"+pais+\"/panel/\"+pais+\"_netquest-panel.csv\", encoding='utf8')"
   ]
  },
  {
   "cell_type": "markdown",
   "metadata": {},
   "source": [
    "Next, bring the variables and labels in order."
   ]
  },
  {
   "cell_type": "code",
   "execution_count": 7,
   "metadata": {},
   "outputs": [],
   "source": [
    "variables = pd.read_excel(\"../Data/AR/panel/190912/manual_variables.xlsx\")\n",
    "levels = pd.read_excel(\"../Data/AR/panel/190912/manual_levels.xlsx\")"
   ]
  },
  {
   "cell_type": "code",
   "execution_count": 8,
   "metadata": {},
   "outputs": [
    {
     "data": {
      "text/plain": [
       "0                 p_sexo\n",
       "1                 p_sexo\n",
       "2              BR_estado\n",
       "3              BR_estado\n",
       "4              BR_estado\n",
       "5              BR_estado\n",
       "6              BR_estado\n",
       "7              BR_estado\n",
       "8              BR_estado\n",
       "9              BR_estado\n",
       "10             BR_estado\n",
       "11             BR_estado\n",
       "12             BR_estado\n",
       "13             BR_estado\n",
       "14             BR_estado\n",
       "15             BR_estado\n",
       "16             BR_estado\n",
       "17             BR_estado\n",
       "18             BR_estado\n",
       "19             BR_estado\n",
       "20             BR_estado\n",
       "21             BR_estado\n",
       "22             BR_estado\n",
       "23             BR_estado\n",
       "24             BR_estado\n",
       "25             BR_estado\n",
       "26             BR_estado\n",
       "27             BR_estado\n",
       "28             BR_estado\n",
       "29             BR_cidade\n",
       "              ...       \n",
       "16535    AR_departamento\n",
       "16536    AR_departamento\n",
       "16537    AR_departamento\n",
       "16538    AR_departamento\n",
       "16539    AR_departamento\n",
       "16540    AR_departamento\n",
       "16541    AR_departamento\n",
       "16542    AR_departamento\n",
       "16543    AR_departamento\n",
       "16544    AR_departamento\n",
       "16545    AR_departamento\n",
       "16546    AR_departamento\n",
       "16547    AR_departamento\n",
       "16548    AR_departamento\n",
       "16549    AR_departamento\n",
       "16550    AR_departamento\n",
       "16551    AR_departamento\n",
       "16552    AR_departamento\n",
       "16553    AR_departamento\n",
       "16554    AR_departamento\n",
       "16555    AR_departamento\n",
       "16556    AR_departamento\n",
       "16557    AR_departamento\n",
       "16558    AR_departamento\n",
       "16559    AR_departamento\n",
       "16560    AR_departamento\n",
       "16561    AR_departamento\n",
       "16562    AR_departamento\n",
       "16563    AR_departamento\n",
       "16564    AR_departamento\n",
       "Name: Variable, Length: 16565, dtype: object"
      ]
     },
     "execution_count": 8,
     "metadata": {},
     "output_type": "execute_result"
    }
   ],
   "source": [
    "variables.Variable\n",
    "levels.Variable\n",
    "#[c for c in panels_dict[\"AR\"].columns if not c in variables.Variable]\n",
    "\n",
    "# [c for c in variables.Variable if not c in panels_dict[\"AR\"].columns]\n",
    "# variables.Variable"
   ]
  },
  {
   "cell_type": "code",
   "execution_count": 9,
   "metadata": {},
   "outputs": [],
   "source": [
    "variables_dict = {}\n",
    "levels_dict = {}\n",
    "\n",
    "for pais in panels_dict:\n",
    "    other_countries = [p for p in panels_dict if not p==pais]\n",
    "    var_df = variables[(variables.Variable.str.startswith(pais)) #country-specific var\n",
    "                       | (variables.Variable.apply(lambda s: sum([k in s for k in other_countries]))==0)] #not specific for another country\n",
    "    lev_df = levels[levels.Variable.isin(var_df.Variable)]\n",
    "    \n",
    "    variables_dict[pais] = var_df\n",
    "    levels_dict[pais] = lev_df\n",
    "    \n",
    "    var_df.to_excel('../Data/'+pais+'/panel/'+pais+'_variables.xlsx')\n",
    "    lev_df.to_excel('../Data/'+pais+'/panel/'+pais+'_levels.xlsx')"
   ]
  },
  {
   "cell_type": "code",
   "execution_count": 10,
   "metadata": {},
   "outputs": [
    {
     "name": "stderr",
     "output_type": "stream",
     "text": [
      "C:\\Users\\schadem\\AppData\\Local\\Continuum\\anaconda3\\lib\\site-packages\\IPython\\core\\interactiveshell.py:3020: DtypeWarning: Columns (186) have mixed types. Specify dtype option on import or set low_memory=False.\n",
      "  interactivity=interactivity, compiler=compiler, result=result)\n"
     ]
    }
   ],
   "source": [
    "AR = pd.read_csv('../Data/AR/panel/AR_netquest-panel.csv')"
   ]
  },
  {
   "cell_type": "code",
   "execution_count": 11,
   "metadata": {},
   "outputs": [
    {
     "name": "stderr",
     "output_type": "stream",
     "text": [
      "C:\\Users\\schadem\\AppData\\Local\\Continuum\\anaconda3\\lib\\site-packages\\IPython\\core\\interactiveshell.py:3020: DtypeWarning: Columns (6) have mixed types. Specify dtype option on import or set low_memory=False.\n",
      "  interactivity=interactivity, compiler=compiler, result=result)\n"
     ]
    }
   ],
   "source": [
    "AR_prev = pd.read_csv('../Data/AR/panel/AR_netquest-panel.csv')"
   ]
  },
  {
   "cell_type": "code",
   "execution_count": 19,
   "metadata": {},
   "outputs": [
    {
     "data": {
      "text/plain": [
       "Index(['Unnamed: 0', 'p_codigo', 'p_sexo', 'panelistAge',\n",
       "       'pv_fecha_modificacion', 'pais', 'BR_estado', 'BR_cidade',\n",
       "       'CO_departamento', 'CO_municipio',\n",
       "       ...\n",
       "       'P12', 'P13', 'CLCSOCIAL2012', 'CLCSOCIAL2015', 'CLCSOCIAL2018',\n",
       "       'MXCSOCIAL2018', 'AR_provincia', 'AR_localidad', 'Códigopostal',\n",
       "       'AR_departamento'],\n",
       "      dtype='object', length=188)"
      ]
     },
     "execution_count": 19,
     "metadata": {},
     "output_type": "execute_result"
    }
   ],
   "source": [
    "AR.columns"
   ]
  },
  {
   "cell_type": "code",
   "execution_count": 21,
   "metadata": {},
   "outputs": [
    {
     "data": {
      "text/plain": [
       "0         False\n",
       "1         False\n",
       "2         False\n",
       "3         False\n",
       "4         False\n",
       "5         False\n",
       "6         False\n",
       "7         False\n",
       "8         False\n",
       "9         False\n",
       "10        False\n",
       "11        False\n",
       "12        False\n",
       "13        False\n",
       "14        False\n",
       "15        False\n",
       "16        False\n",
       "17        False\n",
       "18        False\n",
       "19        False\n",
       "20        False\n",
       "21        False\n",
       "22        False\n",
       "23        False\n",
       "24        False\n",
       "25        False\n",
       "26        False\n",
       "27        False\n",
       "28        False\n",
       "29        False\n",
       "          ...  \n",
       "137391    False\n",
       "137392    False\n",
       "137393    False\n",
       "137394    False\n",
       "137395    False\n",
       "137396    False\n",
       "137397    False\n",
       "137398    False\n",
       "137399    False\n",
       "137400    False\n",
       "137401    False\n",
       "137402    False\n",
       "137403    False\n",
       "137404    False\n",
       "137405    False\n",
       "137406    False\n",
       "137407    False\n",
       "137408    False\n",
       "137409    False\n",
       "137410    False\n",
       "137411    False\n",
       "137412    False\n",
       "137413    False\n",
       "137414    False\n",
       "137415    False\n",
       "137416    False\n",
       "137417    False\n",
       "137418    False\n",
       "137419    False\n",
       "137420    False\n",
       "Name: AR_departamento, Length: 137421, dtype: bool"
      ]
     },
     "execution_count": 21,
     "metadata": {},
     "output_type": "execute_result"
    }
   ],
   "source": [
    "AR_prev.AR_departamento==AR.AR_departamento"
   ]
  },
  {
   "cell_type": "code",
   "execution_count": 14,
   "metadata": {},
   "outputs": [
    {
     "data": {
      "text/plain": [
       "(137421, 188)"
      ]
     },
     "execution_count": 14,
     "metadata": {},
     "output_type": "execute_result"
    }
   ],
   "source": [
    "AR_prev.shape"
   ]
  },
  {
   "cell_type": "code",
   "execution_count": null,
   "metadata": {},
   "outputs": [],
   "source": [
    "print(sorted(MX.MX_municipio_name1.unique().astype(str)))"
   ]
  }
 ],
 "metadata": {
  "kernelspec": {
   "display_name": "Python 3",
   "language": "python",
   "name": "python3"
  },
  "language_info": {
   "codemirror_mode": {
    "name": "ipython",
    "version": 3
   },
   "file_extension": ".py",
   "mimetype": "text/x-python",
   "name": "python",
   "nbconvert_exporter": "python",
   "pygments_lexer": "ipython3",
   "version": "3.7.1"
  }
 },
 "nbformat": 4,
 "nbformat_minor": 2
}
