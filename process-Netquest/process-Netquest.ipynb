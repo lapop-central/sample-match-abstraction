{
 "cells": [
  {
   "cell_type": "code",
   "execution_count": 1,
   "metadata": {},
   "outputs": [],
   "source": [
    "import pandas as pd\n",
    "from fuzzywuzzy import fuzz, process\n",
    "import re\n",
    "import numpy as np\n",
    "import os"
   ]
  },
  {
   "cell_type": "markdown",
   "metadata": {},
   "source": [
    "## The panelists by country"
   ]
  },
  {
   "cell_type": "markdown",
   "metadata": {},
   "source": [
    "Reading in the panel information Netquest gave us."
   ]
  },
  {
   "cell_type": "code",
   "execution_count": 3,
   "metadata": {},
   "outputs": [
    {
     "name": "stderr",
     "output_type": "stream",
     "text": [
      "C:\\Users\\schadem\\AppData\\Local\\Continuum\\anaconda3\\lib\\site-packages\\IPython\\core\\interactiveshell.py:3020: DtypeWarning: Columns (185) have mixed types. Specify dtype option on import or set low_memory=False.\n",
      "  interactivity=interactivity, compiler=compiler, result=result)\n"
     ]
    }
   ],
   "source": [
    "panels = pd.read_csv(\"../../../Data/AR/panel/190912/VANDUS 1147438_W3_20190912.csv\",\n",
    "                     sep=';', \n",
    "#                      skiprows=2891450,\n",
    "#                      nrows=1000000,\n",
    "                     na_values=[' ','.'], \n",
    "                     encoding='latin1',\n",
    "                     #error_bad_lines=False\n",
    "                    )"
   ]
  },
  {
   "cell_type": "code",
   "execution_count": 4,
   "metadata": {
    "scrolled": true
   },
   "outputs": [
    {
     "data": {
      "text/plain": [
       "Index(['p_codigo', 'p_sexo', 'panelistAge', 'pv_fecha_modificacion', 'pais',\n",
       "       'BR_estado', 'BR_cidade', 'CO_departamento', 'CO_municipio',\n",
       "       'MX_estado',\n",
       "       ...\n",
       "       'P12', 'P13', 'CLCSOCIAL2012', 'CLCSOCIAL2015', 'CLCSOCIAL2018',\n",
       "       'MXCSOCIAL2018', 'AR_provincia', 'AR_localidad', 'Códigopostal',\n",
       "       'AR_departamento'],\n",
       "      dtype='object', length=187)"
      ]
     },
     "execution_count": 4,
     "metadata": {},
     "output_type": "execute_result"
    }
   ],
   "source": [
    "panels.columns"
   ]
  },
  {
   "cell_type": "markdown",
   "metadata": {},
   "source": [
    "Creating a dictionary of individual country dataframes, and cleaning them up"
   ]
  },
  {
   "cell_type": "code",
   "execution_count": 5,
   "metadata": {},
   "outputs": [],
   "source": [
    "panels_dict = {}\n",
    "for p in panels.pais.unique():\n",
    "    panels_dict[p] = panels[panels.pais==p]#.dropna(axis=1,how='all')"
   ]
  },
  {
   "cell_type": "code",
   "execution_count": 6,
   "metadata": {},
   "outputs": [
    {
     "data": {
      "text/plain": [
       "dict_keys(['AR'])"
      ]
     },
     "execution_count": 6,
     "metadata": {},
     "output_type": "execute_result"
    }
   ],
   "source": [
    "panels_dict.keys()"
   ]
  },
  {
   "cell_type": "code",
   "execution_count": 8,
   "metadata": {},
   "outputs": [],
   "source": [
    "for pais, data in panels_dict.items():\n",
    "    if not os.path.isdir(\"../../../Data/\"+pais):\n",
    "        os.mkdir(\"../../../Data/\"+pais)\n",
    "    data.to_csv(\"../../../Data/\"+pais+\"/panel/\"+pais+\"_netquest-panel.csv\", encoding='utf8')"
   ]
  },
  {
   "cell_type": "markdown",
   "metadata": {},
   "source": [
    "Next, bring the variables and labels in order."
   ]
  },
  {
   "cell_type": "code",
   "execution_count": 9,
   "metadata": {},
   "outputs": [],
   "source": [
    "variables = pd.read_excel(\"../../../Data/AR/panel/190912/manual_variables.xlsx\")\n",
    "levels = pd.read_excel(\"../../../Data/AR/panel/190912/manual_levels.xlsx\")"
   ]
  },
  {
   "cell_type": "code",
   "execution_count": 10,
   "metadata": {},
   "outputs": [
    {
     "data": {
      "text/plain": [
       "0                 p_sexo\n",
       "1                 p_sexo\n",
       "2              BR_estado\n",
       "3              BR_estado\n",
       "4              BR_estado\n",
       "5              BR_estado\n",
       "6              BR_estado\n",
       "7              BR_estado\n",
       "8              BR_estado\n",
       "9              BR_estado\n",
       "10             BR_estado\n",
       "11             BR_estado\n",
       "12             BR_estado\n",
       "13             BR_estado\n",
       "14             BR_estado\n",
       "15             BR_estado\n",
       "16             BR_estado\n",
       "17             BR_estado\n",
       "18             BR_estado\n",
       "19             BR_estado\n",
       "20             BR_estado\n",
       "21             BR_estado\n",
       "22             BR_estado\n",
       "23             BR_estado\n",
       "24             BR_estado\n",
       "25             BR_estado\n",
       "26             BR_estado\n",
       "27             BR_estado\n",
       "28             BR_estado\n",
       "29             BR_cidade\n",
       "              ...       \n",
       "16535    AR_departamento\n",
       "16536    AR_departamento\n",
       "16537    AR_departamento\n",
       "16538    AR_departamento\n",
       "16539    AR_departamento\n",
       "16540    AR_departamento\n",
       "16541    AR_departamento\n",
       "16542    AR_departamento\n",
       "16543    AR_departamento\n",
       "16544    AR_departamento\n",
       "16545    AR_departamento\n",
       "16546    AR_departamento\n",
       "16547    AR_departamento\n",
       "16548    AR_departamento\n",
       "16549    AR_departamento\n",
       "16550    AR_departamento\n",
       "16551    AR_departamento\n",
       "16552    AR_departamento\n",
       "16553    AR_departamento\n",
       "16554    AR_departamento\n",
       "16555    AR_departamento\n",
       "16556    AR_departamento\n",
       "16557    AR_departamento\n",
       "16558    AR_departamento\n",
       "16559    AR_departamento\n",
       "16560    AR_departamento\n",
       "16561    AR_departamento\n",
       "16562    AR_departamento\n",
       "16563    AR_departamento\n",
       "16564    AR_departamento\n",
       "Name: Variable, Length: 16565, dtype: object"
      ]
     },
     "execution_count": 10,
     "metadata": {},
     "output_type": "execute_result"
    }
   ],
   "source": [
    "variables.Variable\n",
    "levels.Variable\n",
    "#[c for c in panels_dict[\"AR\"].columns if not c in variables.Variable]\n",
    "\n",
    "# [c for c in variables.Variable if not c in panels_dict[\"AR\"].columns]\n",
    "# variables.Variable"
   ]
  },
  {
   "cell_type": "code",
   "execution_count": 12,
   "metadata": {},
   "outputs": [],
   "source": [
    "variables_dict = {}\n",
    "levels_dict = {}\n",
    "\n",
    "for pais in panels_dict:\n",
    "    other_countries = [p for p in panels_dict if not p==pais]\n",
    "    var_df = variables[(variables.Variable.str.startswith(pais)) #country-specific var\n",
    "                       | (variables.Variable.apply(lambda s: sum([k in s for k in other_countries]))==0)] #not specific for another country\n",
    "    lev_df = levels[levels.Variable.isin(var_df.Variable)]\n",
    "    \n",
    "    variables_dict[pais] = var_df\n",
    "    levels_dict[pais] = lev_df\n",
    "    \n",
    "    var_df.to_excel('../../../Data/'+pais+'/panel/'+pais+'_variables.xlsx')\n",
    "    lev_df.to_excel('../../../Data/'+pais+'/panel/'+pais+'_levels.xlsx')"
   ]
  },
  {
   "cell_type": "code",
   "execution_count": 14,
   "metadata": {},
   "outputs": [
    {
     "name": "stderr",
     "output_type": "stream",
     "text": [
      "C:\\Users\\schadem\\AppData\\Local\\Continuum\\anaconda3\\lib\\site-packages\\IPython\\core\\interactiveshell.py:3020: DtypeWarning: Columns (186) have mixed types. Specify dtype option on import or set low_memory=False.\n",
      "  interactivity=interactivity, compiler=compiler, result=result)\n"
     ]
    }
   ],
   "source": [
    "AR = pd.read_csv('../../../Data/AR/panel/AR_netquest-panel.csv')"
   ]
  },
  {
   "cell_type": "code",
   "execution_count": 15,
   "metadata": {},
   "outputs": [
    {
     "data": {
      "text/plain": [
       "Index(['Unnamed: 0', 'p_codigo', 'p_sexo', 'panelistAge',\n",
       "       'pv_fecha_modificacion', 'pais', 'BR_estado', 'BR_cidade',\n",
       "       'CO_departamento', 'CO_municipio',\n",
       "       ...\n",
       "       'P12', 'P13', 'CLCSOCIAL2012', 'CLCSOCIAL2015', 'CLCSOCIAL2018',\n",
       "       'MXCSOCIAL2018', 'AR_provincia', 'AR_localidad', 'Códigopostal',\n",
       "       'AR_departamento'],\n",
       "      dtype='object', length=188)"
      ]
     },
     "execution_count": 15,
     "metadata": {},
     "output_type": "execute_result"
    }
   ],
   "source": [
    "AR.columns"
   ]
  }
 ],
 "metadata": {
  "kernelspec": {
   "display_name": "Python 3",
   "language": "python",
   "name": "python3"
  },
  "language_info": {
   "codemirror_mode": {
    "name": "ipython",
    "version": 3
   },
   "file_extension": ".py",
   "mimetype": "text/x-python",
   "name": "python",
   "nbconvert_exporter": "python",
   "pygments_lexer": "ipython3",
   "version": "3.7.1"
  }
 },
 "nbformat": 4,
 "nbformat_minor": 2
}
