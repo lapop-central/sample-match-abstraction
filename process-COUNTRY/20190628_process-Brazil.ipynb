{
 "cells": [
  {
   "cell_type": "code",
   "execution_count": 29,
   "metadata": {},
   "outputs": [],
   "source": [
    "import pandas as pd\n",
    "from fuzzywuzzy import fuzz, process\n",
    "import re\n",
    "import numpy as np\n",
    "import os\n",
    "\n",
    "import time"
   ]
  },
  {
   "cell_type": "code",
   "execution_count": 30,
   "metadata": {},
   "outputs": [],
   "source": [
    "country = \"BR\"\n",
    "geo1_nq = \"BR_estado\"\n",
    "geo2_nq = \"BR_cidade\"\n",
    "geo1_ipums = 'GEO1_BR2010'\n",
    "geo2_ipums = 'GEO2_BR2010'\n",
    "year = '2010'"
   ]
  },
  {
   "cell_type": "code",
   "execution_count": 31,
   "metadata": {},
   "outputs": [],
   "source": [
    "census = pd.read_csv(\"../Data/\"+country+\"/sample/\"+\"ipumsi_00026.csv\")"
   ]
  },
  {
   "cell_type": "code",
   "execution_count": 32,
   "metadata": {},
   "outputs": [],
   "source": [
    "netquest = pd.read_csv(\"../Data/\"+country+\"/panel/\"+country+\"_netquest-panel.csv\")"
   ]
  },
  {
   "cell_type": "code",
   "execution_count": 33,
   "metadata": {},
   "outputs": [],
   "source": [
    "ipums_geo2 = pd.read_csv('../Data/'+country+'/sample/ipums_codebook_GEO2_BR2010.csv',encoding='Latin1', names=['code','name'], skiprows=1)\n",
    "ipums_geo1 = pd.read_csv('../Data/'+country+'/sample/ipums_codebook_GEO1_BR2010.csv',encoding='Latin1', names=['code','name'], skiprows=1)"
   ]
  },
  {
   "cell_type": "code",
   "execution_count": 34,
   "metadata": {},
   "outputs": [
    {
     "name": "stderr",
     "output_type": "stream",
     "text": [
      "C:\\Users\\schadem\\AppData\\Local\\Continuum\\anaconda3\\envs\\idb\\lib\\site-packages\\ipykernel_launcher.py:3: SettingWithCopyWarning: \n",
      "A value is trying to be set on a copy of a slice from a DataFrame\n",
      "\n",
      "See the caveats in the documentation: http://pandas.pydata.org/pandas-docs/stable/indexing.html#indexing-view-versus-copy\n",
      "  This is separate from the ipykernel package so we can avoid doing imports until\n",
      "C:\\Users\\schadem\\AppData\\Local\\Continuum\\anaconda3\\envs\\idb\\lib\\site-packages\\ipykernel_launcher.py:9: SettingWithCopyWarning: \n",
      "A value is trying to be set on a copy of a slice from a DataFrame.\n",
      "Try using .loc[row_indexer,col_indexer] = value instead\n",
      "\n",
      "See the caveats in the documentation: http://pandas.pydata.org/pandas-docs/stable/indexing.html#indexing-view-versus-copy\n",
      "  if __name__ == '__main__':\n",
      "C:\\Users\\schadem\\AppData\\Local\\Continuum\\anaconda3\\envs\\idb\\lib\\site-packages\\ipykernel_launcher.py:15: SettingWithCopyWarning: \n",
      "A value is trying to be set on a copy of a slice from a DataFrame.\n",
      "Try using .loc[row_indexer,col_indexer] = value instead\n",
      "\n",
      "See the caveats in the documentation: http://pandas.pydata.org/pandas-docs/stable/indexing.html#indexing-view-versus-copy\n",
      "  from ipykernel import kernelapp as app\n"
     ]
    }
   ],
   "source": [
    "ipums_geodf = census[[geo1_ipums,geo2_ipums]]\n",
    "ipums_geodf.columns = ['geo1_code','geo2_code']\n",
    "ipums_geodf.drop_duplicates(inplace=True)\n",
    "\n",
    "ipums_geodf['geo1_name'] = ipums_geodf.merge(ipums_geo1, \n",
    "                                             how='left', \n",
    "                                             left_on = \"geo1_code\", \n",
    "                                             right_on = 'code', \n",
    "                                             copy=False)['name'].values\n",
    "\n",
    "ipums_geodf['geo2_name'] = ipums_geodf.merge(ipums_geo2, \n",
    "                                             how='left', \n",
    "                                             left_on = \"geo2_code\", \n",
    "                                             right_on = 'code', \n",
    "                                             copy=False)['name'].values"
   ]
  },
  {
   "cell_type": "markdown",
   "metadata": {},
   "source": [
    "We have to get the melting action going here."
   ]
  },
  {
   "cell_type": "code",
   "execution_count": 35,
   "metadata": {},
   "outputs": [],
   "source": [
    "ipums_geodf = ipums_geodf.geo2_name.str.split(',').apply(pd.Series) \\\n",
    "    .merge(ipums_geodf, right_index = True, left_index = True) \\\n",
    "    .drop([\"geo2_name\"], axis = 1) \\\n",
    "    .melt(id_vars = [k for k in ipums_geodf.columns if not (type(k)==int)|(k=='geo2_name')], value_name = \"geo2_name\") \\\n",
    "    .drop(\"variable\", axis = 1) \\\n",
    "    .dropna(subset=['geo2_name'])\n",
    "ipums_geodf.geo2_name = ipums_geodf.geo2_name.str.strip()"
   ]
  },
  {
   "cell_type": "code",
   "execution_count": 36,
   "metadata": {},
   "outputs": [],
   "source": [
    "ipums_geodf = ipums_geodf.geo1_name.str.split(',').apply(pd.Series) \\\n",
    "    .merge(ipums_geodf, right_index = True, left_index = True) \\\n",
    "    .drop([\"geo1_name\"], axis = 1) \\\n",
    "    .melt(id_vars = [k for k in ipums_geodf.columns if not (type(k)==int)|(k=='geo1_name')], value_name = \"geo1_name\") \\\n",
    "    .drop(\"variable\", axis = 1) \\\n",
    "    .dropna(subset=['geo1_name'])\n",
    "ipums_geodf.geo1_name = ipums_geodf.geo1_name.str.strip()"
   ]
  },
  {
   "cell_type": "markdown",
   "metadata": {},
   "source": [
    "Now to Netquest."
   ]
  },
  {
   "cell_type": "code",
   "execution_count": 37,
   "metadata": {},
   "outputs": [
    {
     "name": "stderr",
     "output_type": "stream",
     "text": [
      "C:\\Users\\schadem\\AppData\\Local\\Continuum\\anaconda3\\envs\\idb\\lib\\site-packages\\ipykernel_launcher.py:11: SettingWithCopyWarning: \n",
      "A value is trying to be set on a copy of a slice from a DataFrame\n",
      "\n",
      "See the caveats in the documentation: http://pandas.pydata.org/pandas-docs/stable/indexing.html#indexing-view-versus-copy\n",
      "  # This is added back by InteractiveShellApp.init_path()\n"
     ]
    }
   ],
   "source": [
    "# province_labels = pd.read_excel(\"../Data/CL/provincia_dict.xlsx\", encoding='Latin1', header=None)\n",
    "nq_geodf = netquest[[geo1_nq,geo1_nq+'_name',geo2_nq,geo2_nq+'_name']]\n",
    "nq_geodf.columns = ['geo1_code','geo1_name','geo2_code','geo2_name']\n",
    "\n",
    "nq_geodf.drop_duplicates(inplace=True)"
   ]
  },
  {
   "cell_type": "markdown",
   "metadata": {},
   "source": [
    "Finding the duplicates in nq_geodf.geo2_code, and keeping the combinations that occur most often (which are quite clearly the good ones)."
   ]
  },
  {
   "cell_type": "code",
   "execution_count": 38,
   "metadata": {},
   "outputs": [
    {
     "name": "stderr",
     "output_type": "stream",
     "text": [
      "C:\\Users\\schadem\\AppData\\Local\\Continuum\\anaconda3\\envs\\idb\\lib\\site-packages\\ipykernel_launcher.py:2: SettingWithCopyWarning: \n",
      "A value is trying to be set on a copy of a slice from a DataFrame.\n",
      "Try using .loc[row_indexer,col_indexer] = value instead\n",
      "\n",
      "See the caveats in the documentation: http://pandas.pydata.org/pandas-docs/stable/indexing.html#indexing-view-versus-copy\n",
      "  \n"
     ]
    }
   ],
   "source": [
    "nq_geodf['count'] = nq_geodf.apply(lambda r: sum((netquest[geo1_nq]==r['geo1_code'])&(netquest[geo2_nq]==r['geo2_code'])),\n",
    "                                   axis=1)\n",
    "# nq_geodf.sort_values(['geo2_code','count']) \\\n",
    "#     [(nq_geodf.sort_values(['geo2_code','count']).duplicated('geo2_code',keep=False))]\n",
    "nq_geodf = nq_geodf.sort_values(['geo2_code','count']) \\\n",
    "    [~(nq_geodf.sort_values(['geo2_code','count']).duplicated('geo2_code',keep='last'))]"
   ]
  },
  {
   "cell_type": "markdown",
   "metadata": {},
   "source": [
    "Manual fixes, as found necessary in the next step..."
   ]
  },
  {
   "cell_type": "code",
   "execution_count": 39,
   "metadata": {},
   "outputs": [],
   "source": [
    "ipums_geodf.loc[ipums_geodf.geo1_name.str.contains(\"Federal District\"),\n",
    "                'geo1_name'] = \"Distrito Federal\"\n",
    "\n",
    "\n",
    "ipums_geodf.loc[(ipums_geodf.geo2_name.str.contains(\"Santarém\"))& \\\n",
    "                (ipums_geodf.geo1_name.str.contains(\"Paraíba\")),\n",
    "                'geo2_name'] = \"Joca Claudino\"\n",
    "\n",
    "ipums_geodf.loc[(ipums_geodf.geo2_name.str.contains(\"Presidente Juscelino\"))& \\\n",
    "                (ipums_geodf.geo1_name.str.contains(\"Rio Grande do Norte\")),\n",
    "                'geo2_name'] = \"Serra Caiada\"\n",
    "\n",
    "nq_geodf.loc[(nq_geodf.geo2_name.str.contains(\"Bonfim\"))& \\\n",
    "                (nq_geodf.geo1_name.str.contains(\"Rio de Janeiro\")),\n",
    "                'geo1_name'] = \"Minas Gerais\"\n",
    "\n",
    "nq_geodf.loc[(nq_geodf.geo2_name.str.contains(\"Iracema\"))& \\\n",
    "                (nq_geodf.geo1_name.str.contains(\"Santa Catarina\")),\n",
    "                'geo2_name'] = \"Itaiópolis\"\n",
    "\n",
    "\n",
    "nq_geodf.loc[nq_geodf.geo2_name==\"Pescaria Brava\",'geo2_name'] = 'Laguna'\n",
    "nq_geodf.loc[nq_geodf.geo2_name==\"Balneário Rincão\",'geo2_name'] = 'Içara'\n",
    "nq_geodf.loc[nq_geodf.geo2_name==\"Pinto Bandeira\",'geo2_name'] = 'Bento Gonçalves'\n",
    "nq_geodf.loc[nq_geodf.geo2_name==\"Paraíso das Águas\",'geo2_name'] = 'Água Clara'\n",
    "nq_geodf.loc[nq_geodf.geo2_name==\"Açailândia\",'geo1_name'] = 'Maranhão'\n",
    "nq_geodf.loc[nq_geodf.geo2_name==\"Mariana\",'geo1_name'] = 'Minas Gerais'\n",
    "nq_geodf.loc[nq_geodf.geo2_name==\"Fortaleza\",'geo1_name'] = 'Ceará'\n",
    "nq_geodf.loc[nq_geodf.geo2_name.isin([\"Leme\",\n",
    "                                      \"São Paulo\",\n",
    "                                      'Itapevi',\n",
    "                                      \"Franca\",\n",
    "                                      \"Presidente Prudente\",\n",
    "                                      \"Suzano\",\n",
    "                                      \"Ourinhos\"\n",
    "                                     ]),'geo1_name'] = 'São Paulo'\n",
    "\n",
    "nq_geodf.loc[(nq_geodf.geo2_name==\"Praia Grande\") &\\\n",
    "             ((nq_geodf.geo1_name==\"Acre\")|(nq_geodf.geo1_name==\"Maranhão\")),\n",
    "             'geo1_name'] = 'São Paulo'\n",
    "\n",
    "nq_geodf.loc[nq_geodf.geo1_name==\"Brasília\",'geo1_name'] = 'Distrito Federal'\n",
    "nq_geodf.loc[nq_geodf.geo2_name==\"Brasília\",'geo1_name'] = 'Distrito Federal'\n",
    "nq_geodf.loc[nq_geodf.geo2_name==\"Tupanatinga\",'geo1_name'] = 'Pernambuco'\n",
    "nq_geodf.loc[nq_geodf.geo2_name==\"Macaé\",'geo1_name'] = 'Rio de Janeiro'\n",
    "nq_geodf.loc[nq_geodf.geo2_name==\"Queimados\",'geo1_name'] = 'Rio de Janeiro'\n",
    "nq_geodf.loc[nq_geodf.geo2_name==\"São Miguel do Iguaçu\",'geo1_name'] = 'Paraná'\n",
    "\n"
   ]
  },
  {
   "cell_type": "markdown",
   "metadata": {},
   "source": [
    "Next, a function for fuzzy-joining columns from dataframes"
   ]
  },
  {
   "cell_type": "code",
   "execution_count": 40,
   "metadata": {},
   "outputs": [],
   "source": [
    "def fuzzy_join(df1, df2, varname, subset=False, cutoff=90):\n",
    "    '''Returns a dataframe the length of df1, with the matches on the given variable\n",
    "    \n",
    "        Assumes the var is named the same in both dataframes.\n",
    "        \n",
    "        subset is a tuple or list of length 2 whose first element is a string indicating which\n",
    "        variable in df1 has to be equal to which variable in df2 (specified by 2nd element)\n",
    "        '''\n",
    "    #figure out if there is a constraint\n",
    "    if not subset:\n",
    "        #match #1\n",
    "        ratio_matches = df1.astype(str).apply(\n",
    "                lambda d: process.extract(d[varname], \n",
    "                                             df2[varname].astype(str).drop_duplicates(),\n",
    "                                             scorer=fuzz.ratio, limit=2\n",
    "                                            ), axis=1)\n",
    "        #match #2\n",
    "        parti_matches = df1.astype(str).apply(\n",
    "                lambda d: process.extract(d[varname], \n",
    "                                             df2[varname].astype(str).drop_duplicates(),\n",
    "                                             scorer=fuzz.partial_ratio, limit=2\n",
    "                                            ), axis=1)\n",
    "        \n",
    "    else:\n",
    "        #match #1\n",
    "        ratio_matches = df1.astype(str).apply(\n",
    "                lambda d: process.extract(d[varname], \n",
    "                                             df2[varname][df2[subset[1]]==d[subset[0]]].astype(str).drop_duplicates(),\n",
    "                                             scorer=fuzz.ratio, limit=2\n",
    "                                            ), axis=1)\n",
    "        #match #2\n",
    "        parti_matches = df1.astype(str).apply(\n",
    "                lambda d: process.extract(d[varname], \n",
    "                                             df2[varname][df2[subset[1]]==d[subset[0]]].astype(str).drop_duplicates(),\n",
    "                                             scorer=fuzz.partial_ratio, limit=2\n",
    "                                            ), axis=1)    \n",
    "\n",
    "    \n",
    "    # different match cases\n",
    "    #morRatioMatch = ratio_matches.apply(lambda l: (l[0][1]==100)&(l[1][1]==100))\n",
    "    oneRatioMatch = ratio_matches.apply(lambda l: (l[0][1]>=cutoff))#&(l[1][1]<100))\n",
    "    noRatioMatch = ratio_matches.apply(lambda l: (l[0][1]<cutoff))\n",
    "\n",
    "    #morPartiMatch = parti_matches.apply(lambda l: (l[0][1]==100)&(l[1][1]==100))\n",
    "    onePartiMatch = parti_matches.apply(lambda l: (l[0][1]>=cutoff))#&(l[1][1]<100))\n",
    "    noPartiMatch = parti_matches.apply(lambda l: (l[0][1]<cutoff))\n",
    "    \n",
    "    # pick out what's better\n",
    "    matches = pd.Series([(np.nan,np.nan,np.nan)]*len(df1),index=df1.index)\n",
    "    matches.loc[oneRatioMatch] = ratio_matches.loc[oneRatioMatch].apply(lambda l: l[0])\n",
    "    matches.loc[(noRatioMatch&onePartiMatch)] = parti_matches.loc[(noRatioMatch&onePartiMatch)]\\\n",
    "        .apply(lambda l: l[0])\n",
    "    matches.loc[(noRatioMatch&noPartiMatch)] = parti_matches.loc[(noRatioMatch&noPartiMatch)]\\\n",
    "        .apply(lambda l: l[0])\n",
    "    \n",
    "    df = pd.DataFrame()\n",
    "    df['name'] = matches.apply(lambda l: l[0])\n",
    "    df['score'] = matches.apply(lambda l: l[1])\n",
    "    df['index'] = matches.apply(lambda l: l[2])\n",
    "    df['parti_matches'] = parti_matches\n",
    "    df['ratio_matches'] = ratio_matches\n",
    "    \n",
    "    return df"
   ]
  },
  {
   "cell_type": "markdown",
   "metadata": {},
   "source": [
    "Use the new tool!"
   ]
  },
  {
   "cell_type": "code",
   "execution_count": 41,
   "metadata": {
    "scrolled": true
   },
   "outputs": [],
   "source": [
    "nq_geodf[['geo1_match_name','geo1_match_score','geo1_match_index']] \\\n",
    "= fuzzy_join(nq_geodf, ipums_geodf, 'geo1_name')[['name','score','index']]"
   ]
  },
  {
   "cell_type": "code",
   "execution_count": 42,
   "metadata": {},
   "outputs": [],
   "source": [
    "nq_geodf[['geo2_match_name','geo2_match_score','geo2_match_index']] \\\n",
    "= fuzzy_join(nq_geodf, ipums_geodf, 'geo2_name', \n",
    "             subset=['geo1_match_name','geo1_name']\n",
    "            )[['name','score','index']]"
   ]
  },
  {
   "cell_type": "markdown",
   "metadata": {},
   "source": [
    "## De-duping"
   ]
  },
  {
   "cell_type": "markdown",
   "metadata": {},
   "source": [
    "What can we eliminate? Where geo_2code is duplicated and...\n",
    "* where geo2_code and geo2_match_code are duplicated across dupes, just de-dupe--doesn't matter which we use\n",
    "* drop any that have NaN in their geo-s\n",
    "* one of the geo2_match_names is an exact match, throw out any others\n",
    "* if there are two contenders, check which code+geo1_name+geo2_name combo has the majority"
   ]
  },
  {
   "cell_type": "code",
   "execution_count": 43,
   "metadata": {},
   "outputs": [],
   "source": [
    "tmp = nq_geodf.copy()\n",
    "\n",
    "# # if we have the same mapping between netquest geo2 and ipums geo2, doesn't matter which we pick\n",
    "# tmp = tmp.drop_duplicates(subset=['geo2_code','geo2_match_index'])\n",
    "# # ones that have NA geographies are useless in this context, so drop them first\n",
    "# tmp = tmp[(~tmp.geo1_code.isna())& (~tmp.geo2_code.isna())]\n",
    "\n",
    "# dupes = tmp[tmp.duplicated('geo2_code')].geo2_code\n",
    "# for code in dupes: \n",
    "#     # if one of the geo2_match_names is an exact match, throw out any others\n",
    "#     if sum(tmp.loc[tmp.geo2_code==code,\"geo2_name\"]==tmp.loc[tmp.geo2_code==code,\"geo2_match_name\"])>0:\n",
    "#         tmp = tmp[~((tmp.geo2_code==code) & (tmp.geo2_name!=tmp.geo2_match_name))]\n",
    "#     # if there are still duplicates, use the one that has the most prevalent pairing of geo1 & geo2\n",
    "#     id_of_most_common = tmp.loc[tmp.geo2_code==code,\"geo1_code\"].apply(\n",
    "#         lambda c: sum((netquest[geo1_nq]==c) & (netquest[geo2_nq]==code))\n",
    "#     ).idxmax()\n",
    "#     correct_geo1 = tmp.loc[id_of_most_common,\"geo1_code\"]\n",
    "#     tmp = tmp[~((tmp.geo2_code==code) & ~(tmp.geo1_code==correct_geo1))]\n",
    "        \n"
   ]
  },
  {
   "cell_type": "markdown",
   "metadata": {},
   "source": [
    "**What is still an issue??**"
   ]
  },
  {
   "cell_type": "code",
   "execution_count": 44,
   "metadata": {},
   "outputs": [
    {
     "data": {
      "text/html": [
       "<div>\n",
       "<style scoped>\n",
       "    .dataframe tbody tr th:only-of-type {\n",
       "        vertical-align: middle;\n",
       "    }\n",
       "\n",
       "    .dataframe tbody tr th {\n",
       "        vertical-align: top;\n",
       "    }\n",
       "\n",
       "    .dataframe thead th {\n",
       "        text-align: right;\n",
       "    }\n",
       "</style>\n",
       "<table border=\"1\" class=\"dataframe\">\n",
       "  <thead>\n",
       "    <tr style=\"text-align: right;\">\n",
       "      <th></th>\n",
       "      <th>geo1_code</th>\n",
       "      <th>geo1_name</th>\n",
       "      <th>geo2_code</th>\n",
       "      <th>geo2_name</th>\n",
       "      <th>count</th>\n",
       "      <th>geo1_match_name</th>\n",
       "      <th>geo1_match_score</th>\n",
       "      <th>geo1_match_index</th>\n",
       "      <th>geo2_match_name</th>\n",
       "      <th>geo2_match_score</th>\n",
       "      <th>geo2_match_index</th>\n",
       "    </tr>\n",
       "  </thead>\n",
       "  <tbody>\n",
       "  </tbody>\n",
       "</table>\n",
       "</div>"
      ],
      "text/plain": [
       "Empty DataFrame\n",
       "Columns: [geo1_code, geo1_name, geo2_code, geo2_name, count, geo1_match_name, geo1_match_score, geo1_match_index, geo2_match_name, geo2_match_score, geo2_match_index]\n",
       "Index: []"
      ]
     },
     "execution_count": 44,
     "metadata": {},
     "output_type": "execute_result"
    }
   ],
   "source": [
    "tmp[tmp.duplicated('geo2_code', keep=False)].sort_values('geo2_code')#\\\n",
    "# [[\"geo2_code\",\"geo1_name\",\"geo1_match_name\",\"geo2_name\",\"geo2_match_name\",\"geo2_match_score\",\"geo2_match_index\"]]"
   ]
  },
  {
   "cell_type": "markdown",
   "metadata": {},
   "source": [
    "Success! This can be the geo-df."
   ]
  },
  {
   "cell_type": "code",
   "execution_count": 45,
   "metadata": {},
   "outputs": [],
   "source": [
    "nq_geodf = tmp"
   ]
  },
  {
   "cell_type": "code",
   "execution_count": 46,
   "metadata": {},
   "outputs": [
    {
     "data": {
      "text/html": [
       "<div>\n",
       "<style scoped>\n",
       "    .dataframe tbody tr th:only-of-type {\n",
       "        vertical-align: middle;\n",
       "    }\n",
       "\n",
       "    .dataframe tbody tr th {\n",
       "        vertical-align: top;\n",
       "    }\n",
       "\n",
       "    .dataframe thead th {\n",
       "        text-align: right;\n",
       "    }\n",
       "</style>\n",
       "<table border=\"1\" class=\"dataframe\">\n",
       "  <thead>\n",
       "    <tr style=\"text-align: right;\">\n",
       "      <th></th>\n",
       "      <th>geo1_name</th>\n",
       "      <th>geo1_match_name</th>\n",
       "      <th>geo2_name</th>\n",
       "      <th>geo2_match_name</th>\n",
       "      <th>geo2_match_score</th>\n",
       "    </tr>\n",
       "  </thead>\n",
       "  <tbody>\n",
       "    <tr>\n",
       "      <th>274193</th>\n",
       "      <td>Paraíba</td>\n",
       "      <td>Paraíba</td>\n",
       "      <td>Tácima</td>\n",
       "      <td>Tacima</td>\n",
       "      <td>83</td>\n",
       "    </tr>\n",
       "  </tbody>\n",
       "</table>\n",
       "</div>"
      ],
      "text/plain": [
       "       geo1_name geo1_match_name geo2_name geo2_match_name  geo2_match_score\n",
       "274193   Paraíba         Paraíba    Tácima          Tacima                83"
      ]
     },
     "execution_count": 46,
     "metadata": {},
     "output_type": "execute_result"
    }
   ],
   "source": [
    "nq_geodf[nq_geodf.geo2_match_score<90][['geo1_name',\n",
    "                                        'geo1_match_name',\n",
    "                                        'geo2_name',\n",
    "                                        'geo2_match_name',\n",
    "                                        'geo2_match_score']\n",
    "                                      ].sort_values('geo1_name'\n",
    "                                      )"
   ]
  },
  {
   "cell_type": "markdown",
   "metadata": {},
   "source": [
    "Get a crosswalk for these!"
   ]
  },
  {
   "cell_type": "code",
   "execution_count": 47,
   "metadata": {
    "scrolled": true
   },
   "outputs": [],
   "source": [
    "has_ipums_geo = nq_geodf.geo2_match_index.notna()"
   ]
  },
  {
   "cell_type": "code",
   "execution_count": 48,
   "metadata": {
    "scrolled": true
   },
   "outputs": [],
   "source": [
    "nq_geodf['IPUMS_geo2_code'] = np.nan\n",
    "\n",
    "nq_geodf.loc[has_ipums_geo,'IPUMS_geo2_code'] = nq_geodf[has_ipums_geo]\\\n",
    "                            .geo2_match_index\\\n",
    "                            .astype(int)\\\n",
    "                            .apply(\n",
    "                                lambda i: ipums_geodf.loc[i,'geo2_code']\n",
    "                            .astype(int)\n",
    ")"
   ]
  },
  {
   "cell_type": "markdown",
   "metadata": {},
   "source": [
    "We want to replace each nq_geo2 with the _code_ for the corresponding census geography.\n",
    "\n"
   ]
  },
  {
   "cell_type": "markdown",
   "metadata": {},
   "source": [
    "Read in the municipio-centroids, and hopefully attach them here."
   ]
  },
  {
   "cell_type": "code",
   "execution_count": 49,
   "metadata": {},
   "outputs": [],
   "source": [
    "geo2_centroids = pd.read_csv('../Data/'+country+'/geography/'+country+'_geo_centroids.csv', encoding='latin1')"
   ]
  },
  {
   "cell_type": "code",
   "execution_count": 50,
   "metadata": {},
   "outputs": [],
   "source": [
    "nq_geodf_merged = nq_geodf.merge(geo2_centroids[['ADMIN_NAME','Y','X','IPUM'+year]], \n",
    "               left_on='IPUMS_geo2_code',\n",
    "               right_on=\"IPUM\"+year,\n",
    "               how='left'\n",
    "              ).drop('IPUM'+year, axis=1)"
   ]
  },
  {
   "cell_type": "code",
   "execution_count": 51,
   "metadata": {},
   "outputs": [],
   "source": [
    "panel_geo = netquest.merge(nq_geodf_merged[['X','Y','geo2_code']],\n",
    "               left_on=geo2_nq,\n",
    "               right_on='geo2_code',\n",
    "               how='left'\n",
    "              ).drop('geo2_code',axis=1)"
   ]
  },
  {
   "cell_type": "code",
   "execution_count": 52,
   "metadata": {},
   "outputs": [
    {
     "data": {
      "text/plain": [
       "True"
      ]
     },
     "execution_count": 52,
     "metadata": {},
     "output_type": "execute_result"
    }
   ],
   "source": [
    "panel_geo.shape[0]==netquest.shape[0]"
   ]
  },
  {
   "cell_type": "code",
   "execution_count": 53,
   "metadata": {},
   "outputs": [],
   "source": [
    "panel_geo.to_csv('../Data/'+country+'/panel/'+country+'_netquest-panel_geo.csv')"
   ]
  },
  {
   "cell_type": "markdown",
   "metadata": {},
   "source": [
    "And the same for census: attach geographies"
   ]
  },
  {
   "cell_type": "code",
   "execution_count": 54,
   "metadata": {},
   "outputs": [],
   "source": [
    "census_geo = census.merge(geo2_centroids[['ADMIN_NAME','X',\"Y\",'IPUM'+year]],\n",
    "                          left_on = geo2_ipums,\n",
    "                          right_on='IPUM'+year,\n",
    "                          how='left'\n",
    "                         ).drop('IPUM'+year,axis=1)"
   ]
  },
  {
   "cell_type": "code",
   "execution_count": 55,
   "metadata": {},
   "outputs": [
    {
     "data": {
      "text/plain": [
       "True"
      ]
     },
     "execution_count": 55,
     "metadata": {},
     "output_type": "execute_result"
    }
   ],
   "source": [
    "census_geo.shape[0]==census.shape[0]"
   ]
  },
  {
   "cell_type": "code",
   "execution_count": 56,
   "metadata": {},
   "outputs": [],
   "source": [
    "census_geo.to_csv('../Data/'+country+'/sample/'+country+'_ipums-census_geo.csv')"
   ]
  },
  {
   "cell_type": "code",
   "execution_count": null,
   "metadata": {},
   "outputs": [],
   "source": []
  },
  {
   "cell_type": "code",
   "execution_count": null,
   "metadata": {},
   "outputs": [],
   "source": []
  }
 ],
 "metadata": {
  "kernelspec": {
   "display_name": "Python 3",
   "language": "python",
   "name": "python3"
  },
  "language_info": {
   "codemirror_mode": {
    "name": "ipython",
    "version": 3
   },
   "file_extension": ".py",
   "mimetype": "text/x-python",
   "name": "python",
   "nbconvert_exporter": "python",
   "pygments_lexer": "ipython3",
   "version": "3.7.1"
  }
 },
 "nbformat": 4,
 "nbformat_minor": 2
}
