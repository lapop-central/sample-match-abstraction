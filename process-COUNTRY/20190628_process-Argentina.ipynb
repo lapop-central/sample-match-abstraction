{
 "cells": [
  {
   "cell_type": "code",
   "execution_count": 148,
   "metadata": {},
   "outputs": [],
   "source": [
    "import pandas as pd\n",
    "from fuzzywuzzy import fuzz, process\n",
    "import re\n",
    "import numpy as np\n",
    "import os\n",
    "\n",
    "import time"
   ]
  },
  {
   "cell_type": "code",
   "execution_count": 149,
   "metadata": {},
   "outputs": [],
   "source": [
    "country = \"AR\"\n",
    "nq_date = \"20190628\""
   ]
  },
  {
   "cell_type": "code",
   "execution_count": 150,
   "metadata": {},
   "outputs": [],
   "source": [
    "census = pd.read_csv(\"../Data/\"+country+\"/sample/\"+\"ipumsi_00015.csv\")"
   ]
  },
  {
   "cell_type": "code",
   "execution_count": 151,
   "metadata": {},
   "outputs": [],
   "source": [
    "netquest = pd.read_csv(\"../Data/\"+country+\"/panel/\"+country+\"_netquest-panel.csv\")"
   ]
  },
  {
   "cell_type": "code",
   "execution_count": 152,
   "metadata": {},
   "outputs": [],
   "source": [
    "nq_dict = pd.read_excel(\"../Data/All countries export/\"+nq_date+\"/manual_levels.xlsx\",\n",
    "                       )"
   ]
  },
  {
   "cell_type": "code",
   "execution_count": 153,
   "metadata": {},
   "outputs": [],
   "source": [
    "geo1_nq = \"AR_provincia\"\n",
    "geo2_nq = \"AR_departamento\"\n",
    "geo1_ipums = 'GEO1_AR2010'\n",
    "geo2_ipums = 'GEO2_AR2010'\n",
    "year = '2010'"
   ]
  },
  {
   "cell_type": "code",
   "execution_count": 154,
   "metadata": {},
   "outputs": [],
   "source": [
    "ipums_geo2 = pd.read_csv('../Data/'+country+'/sample/ipums_codebook_'+geo2_ipums+'.csv',encoding='Latin1', names=['code','name'], skiprows=1)\n",
    "ipums_geo1 = pd.read_csv('../Data/'+country+'/sample/ipums_codebook_'+geo1_ipums+'.csv',encoding='Latin1', names=['code','name'], skiprows=1)"
   ]
  },
  {
   "cell_type": "code",
   "execution_count": 155,
   "metadata": {},
   "outputs": [],
   "source": [
    "nq_geo1 = nq_dict[nq_dict.Variable==geo1_nq]\n",
    "nq_geo1.columns = [\"Variable\",geo1_nq,geo1_nq+\"_name\"]\n",
    "nq_geo1 = nq_geo1[[geo1_nq,geo1_nq+\"_name\"]]\n",
    "\n",
    "nq_geo2 = nq_dict[nq_dict.Variable==geo2_nq]\n",
    "nq_geo2.columns = [\"Variable\",geo2_nq,geo2_nq+\"_name\"]\n",
    "nq_geo2 = nq_geo2[[geo2_nq,geo2_nq+\"_name\"]]"
   ]
  },
  {
   "cell_type": "markdown",
   "metadata": {},
   "source": [
    "Setting up the unique DF for geographies for IPUMS"
   ]
  },
  {
   "cell_type": "code",
   "execution_count": 156,
   "metadata": {},
   "outputs": [
    {
     "name": "stderr",
     "output_type": "stream",
     "text": [
      "C:\\Users\\schadem\\AppData\\Local\\Continuum\\anaconda3\\envs\\idb\\lib\\site-packages\\ipykernel_launcher.py:3: SettingWithCopyWarning: \n",
      "A value is trying to be set on a copy of a slice from a DataFrame\n",
      "\n",
      "See the caveats in the documentation: http://pandas.pydata.org/pandas-docs/stable/indexing.html#indexing-view-versus-copy\n",
      "  This is separate from the ipykernel package so we can avoid doing imports until\n",
      "C:\\Users\\schadem\\AppData\\Local\\Continuum\\anaconda3\\envs\\idb\\lib\\site-packages\\ipykernel_launcher.py:9: SettingWithCopyWarning: \n",
      "A value is trying to be set on a copy of a slice from a DataFrame.\n",
      "Try using .loc[row_indexer,col_indexer] = value instead\n",
      "\n",
      "See the caveats in the documentation: http://pandas.pydata.org/pandas-docs/stable/indexing.html#indexing-view-versus-copy\n",
      "  if __name__ == '__main__':\n",
      "C:\\Users\\schadem\\AppData\\Local\\Continuum\\anaconda3\\envs\\idb\\lib\\site-packages\\ipykernel_launcher.py:15: SettingWithCopyWarning: \n",
      "A value is trying to be set on a copy of a slice from a DataFrame.\n",
      "Try using .loc[row_indexer,col_indexer] = value instead\n",
      "\n",
      "See the caveats in the documentation: http://pandas.pydata.org/pandas-docs/stable/indexing.html#indexing-view-versus-copy\n",
      "  from ipykernel import kernelapp as app\n"
     ]
    }
   ],
   "source": [
    "ipums_geodf = census[[geo1_ipums,geo2_ipums]]\n",
    "ipums_geodf.columns = ['geo1_code','geo2_code']\n",
    "ipums_geodf.drop_duplicates(subset=['geo1_code','geo2_code'],inplace=True)\n",
    "\n",
    "ipums_geodf['geo1_name'] = ipums_geodf.merge(ipums_geo1, \n",
    "                                             how='left', \n",
    "                                             left_on = \"geo1_code\", \n",
    "                                             right_on = 'code', \n",
    "                                             copy=False)['name'].values\n",
    "\n",
    "ipums_geodf['geo2_name'] = ipums_geodf.merge(ipums_geo2, \n",
    "                                             how='left', \n",
    "                                             left_on = \"geo2_code\", \n",
    "                                             right_on = 'code', \n",
    "                                             copy=False)['name'].values"
   ]
  },
  {
   "cell_type": "markdown",
   "metadata": {},
   "source": [
    "We have to get the melting action going here."
   ]
  },
  {
   "cell_type": "code",
   "execution_count": 157,
   "metadata": {},
   "outputs": [],
   "source": [
    "ipums_geodf = ipums_geodf.geo2_name.str.split(',').apply(pd.Series) \\\n",
    "    .merge(ipums_geodf, right_index = True, left_index = True) \\\n",
    "    .drop([\"geo2_name\"], axis = 1) \\\n",
    "    .melt(id_vars = [k for k in ipums_geodf.columns if not (type(k)==int)|(k=='geo2_name')], value_name = \"geo2_name\") \\\n",
    "    .drop(\"variable\", axis = 1) \\\n",
    "    .dropna(subset=['geo2_name'])\n",
    "ipums_geodf.geo2_name = ipums_geodf.geo2_name.str.strip()"
   ]
  },
  {
   "cell_type": "code",
   "execution_count": 158,
   "metadata": {},
   "outputs": [],
   "source": [
    "ipums_geodf = ipums_geodf.geo1_name.str.split(',').apply(pd.Series) \\\n",
    "    .merge(ipums_geodf, right_index = True, left_index = True) \\\n",
    "    .drop([\"geo1_name\"], axis = 1) \\\n",
    "    .melt(id_vars = [k for k in ipums_geodf.columns if not (type(k)==int)|(k=='geo1_name')], value_name = \"geo1_name\") \\\n",
    "    .drop(\"variable\", axis = 1) \\\n",
    "    .dropna(subset=['geo1_name'])\n",
    "ipums_geodf.geo1_name = ipums_geodf.geo1_name.str.strip()"
   ]
  },
  {
   "cell_type": "markdown",
   "metadata": {},
   "source": [
    "Now to Netquest--first, get the geo1- and geo2_name in there."
   ]
  },
  {
   "cell_type": "code",
   "execution_count": 159,
   "metadata": {},
   "outputs": [],
   "source": [
    "# province_labels = pd.read_excel(\"../Data/CL/provincia_dict.xlsx\", encoding='Latin1', header=None)\n",
    "nq_geodf = netquest.merge(nq_geo2, on=geo2_nq, how='left')\\\n",
    "                   .merge(nq_geo1, on=geo1_nq, how='left')[[geo1_nq,geo1_nq+'_name',geo2_nq,geo2_nq+'_name']]\n",
    "nq_geodf.columns = ['geo1_code','geo1_name','geo2_code','geo2_name']\n",
    "nq_geodf.drop_duplicates(inplace=True)\n",
    "\n",
    "nq_geodf = nq_geodf[(nq_geodf['geo1_code'].notna())&(nq_geodf['geo2_code'].notna())]"
   ]
  },
  {
   "cell_type": "markdown",
   "metadata": {},
   "source": [
    "Finding the duplicates in nq_geodf.geo2_code, and keeping the combinations that occur most often (which are quite clearly the good ones)."
   ]
  },
  {
   "cell_type": "code",
   "execution_count": 160,
   "metadata": {},
   "outputs": [],
   "source": [
    "nq_geodf['count'] = nq_geodf.apply(lambda r: sum((netquest[geo1_nq]==r['geo1_code'])&(netquest[geo2_nq]==r['geo2_code'])),\n",
    "                                   axis=1)\n",
    "# nq_geodf.sort_values(['geo2_code','count']) \\\n",
    "#     [(nq_geodf.sort_values(['geo2_code','count']).duplicated('geo2_code',keep=False))]\n",
    "nq_geodf = nq_geodf.sort_values(['geo2_code','count']) \\\n",
    "    [~(nq_geodf.sort_values(['geo2_code','count']).duplicated('geo2_code',keep='last'))]"
   ]
  },
  {
   "cell_type": "code",
   "execution_count": 161,
   "metadata": {},
   "outputs": [
    {
     "data": {
      "text/html": [
       "<div>\n",
       "<style scoped>\n",
       "    .dataframe tbody tr th:only-of-type {\n",
       "        vertical-align: middle;\n",
       "    }\n",
       "\n",
       "    .dataframe tbody tr th {\n",
       "        vertical-align: top;\n",
       "    }\n",
       "\n",
       "    .dataframe thead th {\n",
       "        text-align: right;\n",
       "    }\n",
       "</style>\n",
       "<table border=\"1\" class=\"dataframe\">\n",
       "  <thead>\n",
       "    <tr style=\"text-align: right;\">\n",
       "      <th></th>\n",
       "      <th>geo1_code</th>\n",
       "      <th>geo2_code</th>\n",
       "      <th>geo2_name</th>\n",
       "      <th>geo1_name</th>\n",
       "    </tr>\n",
       "  </thead>\n",
       "  <tbody>\n",
       "    <tr>\n",
       "      <th>61</th>\n",
       "      <td>6</td>\n",
       "      <td>6045</td>\n",
       "      <td>General Pueyrredón</td>\n",
       "      <td>Buenos Aires province</td>\n",
       "    </tr>\n",
       "  </tbody>\n",
       "</table>\n",
       "</div>"
      ],
      "text/plain": [
       "    geo1_code  geo2_code           geo2_name              geo1_name\n",
       "61          6       6045  General Pueyrredón  Buenos Aires province"
      ]
     },
     "execution_count": 161,
     "metadata": {},
     "output_type": "execute_result"
    }
   ],
   "source": [
    "ipums_geodf[ipums_geodf.geo2_name.str.contains(\"Pueyrredón\")]"
   ]
  },
  {
   "cell_type": "markdown",
   "metadata": {},
   "source": [
    "Next, a function for fuzzy-joining columns from dataframes"
   ]
  },
  {
   "cell_type": "code",
   "execution_count": 162,
   "metadata": {},
   "outputs": [],
   "source": [
    "def fuzzy_join(df1, df2, varname, subset=False, cutoff=90):\n",
    "    '''Returns a dataframe the length of df1, with the matches on the given variable\n",
    "    \n",
    "        Assumes the var is named the same in both dataframes.\n",
    "        \n",
    "        subset is a tuple or list of length 2 whose first element is a string indicating which\n",
    "        variable in df1 has to be equal to which variable in df2 (specified by 2nd element)\n",
    "        '''\n",
    "    #figure out if there is a constraint\n",
    "    if not subset:\n",
    "        #match #1\n",
    "        ratio_matches = df1.astype(str).apply(\n",
    "                lambda d: process.extract(d[varname], \n",
    "                                             df2[varname].astype(str).drop_duplicates(),\n",
    "                                             scorer=fuzz.ratio, limit=2\n",
    "                                            ), axis=1)\n",
    "        #match #2\n",
    "        parti_matches = df1.astype(str).apply(\n",
    "                lambda d: process.extract(d[varname], \n",
    "                                             df2[varname].astype(str).drop_duplicates(),\n",
    "                                             scorer=fuzz.partial_ratio, limit=2\n",
    "                                            ), axis=1)\n",
    "        \n",
    "    else:\n",
    "        #match #1\n",
    "        ratio_matches = df1.astype(str).apply(\n",
    "                lambda d: process.extract(d[varname], \n",
    "                                             df2[varname][df2[subset[1]]==d[subset[0]]].astype(str).drop_duplicates(),\n",
    "                                             scorer=fuzz.ratio, limit=2\n",
    "                                            ), axis=1)\n",
    "        #match #2\n",
    "        parti_matches = df1.astype(str).apply(\n",
    "                lambda d: process.extract(d[varname], \n",
    "                                             df2[varname][df2[subset[1]]==d[subset[0]]].astype(str).drop_duplicates(),\n",
    "                                             scorer=fuzz.partial_ratio, limit=2\n",
    "                                            ), axis=1)    \n",
    "\n",
    "    \n",
    "    # different match cases\n",
    "    #morRatioMatch = ratio_matches.apply(lambda l: (l[0][1]==100)&(l[1][1]==100))\n",
    "    oneRatioMatch = ratio_matches.apply(lambda l: (l[0][1]>=cutoff))#&(l[1][1]<100))\n",
    "    noRatioMatch = ratio_matches.apply(lambda l: (l[0][1]<cutoff))\n",
    "\n",
    "    #morPartiMatch = parti_matches.apply(lambda l: (l[0][1]==100)&(l[1][1]==100))\n",
    "    onePartiMatch = parti_matches.apply(lambda l: (l[0][1]>=cutoff))#&(l[1][1]<100))\n",
    "    noPartiMatch = parti_matches.apply(lambda l: (l[0][1]<cutoff))\n",
    "    \n",
    "    # pick out what's better\n",
    "    matches = pd.Series([(np.nan,np.nan,np.nan)]*len(df1),index=df1.index)\n",
    "    matches.loc[oneRatioMatch] = ratio_matches.loc[oneRatioMatch].apply(lambda l: l[0])\n",
    "    matches.loc[(noRatioMatch&onePartiMatch)] = parti_matches.loc[(noRatioMatch&onePartiMatch)]\\\n",
    "        .apply(lambda l: l[0])\n",
    "    matches.loc[(noRatioMatch&noPartiMatch)] = parti_matches.loc[(noRatioMatch&noPartiMatch)]\\\n",
    "        .apply(lambda l: l[0])\n",
    "    \n",
    "    df = pd.DataFrame()\n",
    "    df['name'] = matches.apply(lambda l: l[0])\n",
    "    df['score'] = matches.apply(lambda l: l[1])\n",
    "    df['index'] = matches.apply(lambda l: l[2])\n",
    "    df['parti_matches'] = parti_matches\n",
    "    df['ratio_matches'] = ratio_matches\n",
    "    \n",
    "    return df"
   ]
  },
  {
   "cell_type": "markdown",
   "metadata": {},
   "source": [
    "Use the new tool!"
   ]
  },
  {
   "cell_type": "markdown",
   "metadata": {},
   "source": [
    "Manual fixes, as found necessary in the next step..."
   ]
  },
  {
   "cell_type": "code",
   "execution_count": 163,
   "metadata": {},
   "outputs": [],
   "source": [
    "nq_geodf.loc[nq_geodf.geo1_name==\"Ciudad Autónoma de Buenos Aires\",\n",
    "             'geo1_name'] = 'CABA'\n",
    "\n",
    "ipums_geodf.loc[ipums_geodf.geo1_name==\"City of Buenos Aires\",\n",
    "             'geo1_name'] = 'CABA'\n",
    "nq_geodf.loc[(nq_geodf.geo1_name==\"CABA\"),'geo2_name'] = 'CABA'\n",
    "ipums_geodf.loc[(ipums_geodf.geo1_name==\"CABA\"),'geo2_name'] = 'CABA'\n",
    "\n",
    "ipums_geodf.loc[ipums_geodf.geo1_name.str.contains(\"Buenos Aires province\"),\n",
    "                'geo1_name'] = \"Buenos Aires\"\n",
    "\n",
    "ipums_geodf.loc[ipums_geodf.geo2_name.str.contains(\"Puan\"),\n",
    "                'geo2_name'] = \"Puán\"\n",
    "ipums_geodf.loc[(ipums_geodf.geo2_name.str.contains(\"General San Martín\"))\\\n",
    "                &(ipums_geodf.geo1_name==\"Buenos Aires\"),\n",
    "                'geo2_name'] = \"Ciudad Libertador San Martín\"\n",
    "\n",
    "\n",
    "\n",
    "ipums_geodf.loc[(ipums_geodf.geo2_name.str.contains(\"Chascomus\")),\n",
    "                'geo2_name'] = \"Chascomús\"\n",
    "ipums_geodf.loc[(ipums_geodf.geo2_name.str.contains(\"Jose C. Paz\")),\n",
    "                'geo2_name'] = \"José C. Paz\"\n",
    "nq_geodf.loc[(nq_geodf.geo2_name.str.contains(\"Adolfo Gonzales Chaves\")),\n",
    "                'geo2_name'] = \"Adolfo González Chaves\"\n",
    "nq_geodf.loc[(nq_geodf.geo2_name.str.contains(\"Paso de Indios\"))\\\n",
    "                &(nq_geodf.geo1_name==\"Chubut\"),\n",
    "                'geo2_name'] = \"Paso de los Indios\"\n",
    "nq_geodf.loc[(nq_geodf.geo2_name.str.contains(\"Coronel de Marina Leonardo Rosales\"))\\\n",
    "                &(nq_geodf.geo1_name==\"Buenos Aires\"),\n",
    "                'geo2_name'] = \"Coronel de Marine L. Rosales\"\n",
    "ipums_geodf.loc[(ipums_geodf.geo2_name.str.contains(\"Veinticinco de Mayo\"))\\\n",
    "                &(ipums_geodf.geo1_name==\"Buenos Aires\"),\n",
    "                'geo2_name'] = \"25 de Mayo\"\n",
    "nq_geodf.loc[(nq_geodf.geo2_name.str.contains(\"Pueyrredón\"))\\\n",
    "                &(nq_geodf.geo1_name==\"Buenos Aires\"),\n",
    "                'geo2_name'] = \"General Pueyrredón\""
   ]
  },
  {
   "cell_type": "markdown",
   "metadata": {},
   "source": [
    "We see that a lot of depa's are listed under various provinces. Can we utilize subpar matching later to get just the ones that are good?"
   ]
  },
  {
   "cell_type": "markdown",
   "metadata": {},
   "source": [
    "The CABA districts require special attention. They are labelled school districts, but they are actually _comunas_.\n",
    "\n",
    "The Barrios aren't provided for much of Netquest, so I'm just simplifying to the whole city here."
   ]
  },
  {
   "cell_type": "code",
   "execution_count": 164,
   "metadata": {},
   "outputs": [],
   "source": [
    "\n",
    "# ipums_geodf.loc[(ipums_geodf.geo1_name==\"CABA\")&\\\n",
    "#                 (ipums_geodf.geo2_name.str.contains('XIII')),\n",
    "#              'geo2_name'] = 'Comuna 13'\n",
    "# ipums_geodf.loc[(ipums_geodf.geo1_name==\"CABA\")&\\\n",
    "#                 (ipums_geodf.geo2_name.str.contains('VIII')),\n",
    "#              'geo2_name'] = 'Comuna 8'\n",
    "# ipums_geodf.loc[(ipums_geodf.geo1_name==\"CABA\")&\\\n",
    "#                 (ipums_geodf.geo2_name.str.contains('XIV')),\n",
    "#              'geo2_name'] = 'Comuna 14'\n",
    "# ipums_geodf.loc[(ipums_geodf.geo1_name==\"CABA\")&\\\n",
    "#                 (ipums_geodf.geo2_name.str.contains('XII')),\n",
    "#              'geo2_name'] = 'Comuna 12'\n",
    "# ipums_geodf.loc[(ipums_geodf.geo1_name==\"CABA\")&\\\n",
    "#                 (ipums_geodf.geo2_name.str.contains('VII')),\n",
    "#              'geo2_name'] = 'Comuna 7'\n",
    "# ipums_geodf.loc[(ipums_geodf.geo1_name==\"CABA\")&\\\n",
    "#                 (ipums_geodf.geo2_name.str.contains('III')),\n",
    "#              'geo2_name'] = 'Comuna 3'\n",
    "# ipums_geodf.loc[(ipums_geodf.geo1_name==\"CABA\")&\\\n",
    "#                 (ipums_geodf.geo2_name.str.contains('XV')),\n",
    "#              'geo2_name'] = 'Comuna 15'\n",
    "# ipums_geodf.loc[(ipums_geodf.geo1_name==\"CABA\")&\\\n",
    "#                 (ipums_geodf.geo2_name.str.contains('XI')),\n",
    "#              'geo2_name'] = 'Comuna 11'\n",
    "# ipums_geodf.loc[(ipums_geodf.geo1_name==\"CABA\")&\\\n",
    "#                 (ipums_geodf.geo2_name.str.contains('IX')),\n",
    "#              'geo2_name'] = 'Comuna 9'\n",
    "# ipums_geodf.loc[(ipums_geodf.geo1_name==\"CABA\")&\\\n",
    "#                 (ipums_geodf.geo2_name.str.contains('VI')),\n",
    "#              'geo2_name'] = 'Comuna 6'\n",
    "# ipums_geodf.loc[(ipums_geodf.geo1_name==\"CABA\")&\\\n",
    "#                 (ipums_geodf.geo2_name.str.contains('IV')),\n",
    "#              'geo2_name'] = 'Comuna 4'\n",
    "# ipums_geodf.loc[(ipums_geodf.geo1_name==\"CABA\")&\\\n",
    "#                 (ipums_geodf.geo2_name.str.contains('II')),\n",
    "#              'geo2_name'] = 'Comuna 2'\n",
    "# ipums_geodf.loc[(ipums_geodf.geo1_name==\"CABA\")&\\\n",
    "#                 (ipums_geodf.geo2_name.str.contains('X')),\n",
    "#              'geo2_name'] = 'Comuna 10'\n",
    "# ipums_geodf.loc[(ipums_geodf.geo1_name==\"CABA\")&\\\n",
    "#                 (ipums_geodf.geo2_name.str.contains('V')),\n",
    "#              'geo2_name'] = 'Comuna 5'\n",
    "# ipums_geodf.loc[(ipums_geodf.geo1_name==\"CABA\")&\\\n",
    "#                 (ipums_geodf.geo2_name.str.contains('I')),\n",
    "#              'geo2_name'] = 'Comuna 1'"
   ]
  },
  {
   "cell_type": "code",
   "execution_count": 165,
   "metadata": {},
   "outputs": [],
   "source": [
    "# nq_geodf.loc[(nq_geodf.geo1_name==\"CABA\")&(nq_geodf.geo2_name.isin(\n",
    "#     ['Puerto Madero','San Nicolás','Retiro','San Telmo','Constitución'])),\n",
    "#             'geo2_name'] = 'Comuna 1'\n",
    "# nq_geodf.loc[(nq_geodf.geo1_name==\"CABA\")&(nq_geodf.geo2_name.isin(\n",
    "#     ['Recoleta'])),\n",
    "#             'geo2_name'] = 'Comuna 2'\n",
    "# nq_geodf.loc[(nq_geodf.geo1_name==\"CABA\")&(nq_geodf.geo2_name.isin(\n",
    "#     ['Balvanera','San Cristóbal'])),\n",
    "#             'geo2_name'] = 'Comuna 3'\n",
    "# nq_geodf.loc[(nq_geodf.geo1_name==\"CABA\")&(nq_geodf.geo2_name.isin(\n",
    "#     ['La Boca','Barracas', 'Parque Patricios', 'Nueva Pompeya'])),\n",
    "#             'geo2_name'] = 'Comuna 4'\n",
    "# nq_geodf.loc[(nq_geodf.geo1_name==\"CABA\")&(nq_geodf.geo2_name.isin(\n",
    "#     ['Almagro','Boedo'])),\n",
    "#             'geo2_name'] = 'Comuna 5'\n",
    "# nq_geodf.loc[(nq_geodf.geo1_name==\"CABA\")&(nq_geodf.geo2_name.isin(\n",
    "#     ['Caballito'])),\n",
    "#             'geo2_name'] = 'Comuna 6'\n",
    "# nq_geodf.loc[(nq_geodf.geo1_name==\"CABA\")&(nq_geodf.geo2_name.isin(\n",
    "#     ['Flores','Parque Chacabuco'])),\n",
    "#             'geo2_name'] = 'Comuna 7'\n",
    "# nq_geodf.loc[(nq_geodf.geo1_name==\"CABA\")&(nq_geodf.geo2_name.isin(\n",
    "#     ['Villa Soldati', 'Villa Lugano', 'Villa Riachuelo'])),\n",
    "#             'geo2_name'] = 'Comuna 8'\n",
    "# nq_geodf.loc[(nq_geodf.geo1_name==\"CABA\")&(nq_geodf.geo2_name.isin(\n",
    "#     ['Parque Avellaneda', 'Mataderos', 'Liniers'])),\n",
    "#             'geo2_name'] = 'Comuna 10'\n",
    "# nq_geodf.loc[(nq_geodf.geo1_name==\"CABA\")&(nq_geodf.geo2_name.isin(\n",
    "#     ['Villa Luro', 'Vélez Sársfield', 'Floresta', 'Monte Castro', 'Villa Real', 'Versalles'])),\n",
    "#             'geo2_name'] = 'Comuna 10'\n",
    "# nq_geodf.loc[(nq_geodf.geo1_name==\"CABA\")&(nq_geodf.geo2_name.isin(\n",
    "#     ['Villa Devoto', 'Villa del Parque', 'Villa Santa Rita', 'Villa General Mitre'])),\n",
    "#             'geo2_name'] = 'Comuna 11'\n",
    "# nq_geodf.loc[(nq_geodf.geo1_name==\"CABA\")&(nq_geodf.geo2_name.isin(\n",
    "#     ['Villa Pueyrredón', 'Villa Urquiza', 'Coghlan', 'Saavedra'])),\n",
    "#             'geo2_name'] = 'Comuna 12'\n",
    "# nq_geodf.loc[(nq_geodf.geo1_name==\"CABA\")&(nq_geodf.geo2_name.isin(\n",
    "#     ['Núñez', 'Belgrano', 'Colegiales'])),\n",
    "#             'geo2_name'] = 'Comuna 13'\n",
    "# nq_geodf.loc[(nq_geodf.geo1_name==\"CABA\")&(nq_geodf.geo2_name.isin(\n",
    "#     ['Palermo'])),\n",
    "#             'geo2_name'] = 'Comuna 14'\n",
    "# nq_geodf.loc[(nq_geodf.geo1_name==\"CABA\")&(nq_geodf.geo2_name.isin(\n",
    "#     ['Villa Ortúzar', 'Chacarita', 'Villa Crespo', 'La Paternal', 'Agronomía', 'Parque Chas'])),\n",
    "#             'geo2_name'] = 'Comuna 15'"
   ]
  },
  {
   "cell_type": "markdown",
   "metadata": {},
   "source": [
    "## Fuzzy joining"
   ]
  },
  {
   "cell_type": "code",
   "execution_count": 166,
   "metadata": {
    "scrolled": true
   },
   "outputs": [],
   "source": [
    "nq_geodf[['geo1_match_name','geo1_match_score','geo1_match_index']] \\\n",
    "= fuzzy_join(nq_geodf, ipums_geodf, 'geo1_name')[['name','score','index']]"
   ]
  },
  {
   "cell_type": "code",
   "execution_count": 167,
   "metadata": {},
   "outputs": [],
   "source": [
    "nq_geodf[['geo2_match_name','geo2_match_score','geo2_match_index']] \\\n",
    "= fuzzy_join(nq_geodf, ipums_geodf, 'geo2_name', \n",
    "             subset=['geo1_match_name','geo1_name']\n",
    "            )[['name','score','index']]"
   ]
  },
  {
   "cell_type": "markdown",
   "metadata": {},
   "source": [
    "## De-duping"
   ]
  },
  {
   "cell_type": "markdown",
   "metadata": {},
   "source": [
    "What can we eliminate? Where geo_2code is duplicated and...\n",
    "* Buenos Aires province has geo2_match_score==100, drop CABA match\n",
    "* one of the geo2_match_names is an exact match, throw out any others"
   ]
  },
  {
   "cell_type": "code",
   "execution_count": 168,
   "metadata": {},
   "outputs": [],
   "source": [
    "# dupes = nq_geodf[nq_geodf.duplicated('geo2_code')].geo2_code\n",
    "\n",
    "tmp = nq_geodf.copy()\n",
    "\n",
    "# for code in dupes: \n",
    "#     if 'CABA' in tmp.loc[tmp.geo2_code==code].geo1_match_name.unique():\n",
    "#         if int(tmp.loc[((tmp.geo2_code==code) & (tmp.geo1_name==\"Buenos Aires\")), 'geo2_match_score'])==100:\n",
    "#             tmp = tmp[~((tmp.geo2_code==code) & (tmp.geo1_name==\"CABA\"))]\n",
    "#     # if one of the geo2_match_names is an exact match, throw out any others\n",
    "#     if sum(tmp.loc[tmp.geo2_code==code,\"geo2_name\"]==tmp.loc[tmp.geo2_code==code,\"geo2_match_name\"])>0:\n",
    "#         tmp = tmp[~((tmp.geo2_code==code) & (tmp.geo2_name!=tmp.geo2_match_name))]"
   ]
  },
  {
   "cell_type": "markdown",
   "metadata": {},
   "source": [
    "**What is still an issue??**"
   ]
  },
  {
   "cell_type": "code",
   "execution_count": 169,
   "metadata": {},
   "outputs": [
    {
     "data": {
      "text/html": [
       "<div>\n",
       "<style scoped>\n",
       "    .dataframe tbody tr th:only-of-type {\n",
       "        vertical-align: middle;\n",
       "    }\n",
       "\n",
       "    .dataframe tbody tr th {\n",
       "        vertical-align: top;\n",
       "    }\n",
       "\n",
       "    .dataframe thead th {\n",
       "        text-align: right;\n",
       "    }\n",
       "</style>\n",
       "<table border=\"1\" class=\"dataframe\">\n",
       "  <thead>\n",
       "    <tr style=\"text-align: right;\">\n",
       "      <th></th>\n",
       "      <th>geo2_code</th>\n",
       "      <th>geo1_name</th>\n",
       "      <th>geo1_match_name</th>\n",
       "      <th>geo2_name</th>\n",
       "      <th>geo2_match_name</th>\n",
       "      <th>geo2_match_score</th>\n",
       "      <th>geo2_match_index</th>\n",
       "    </tr>\n",
       "  </thead>\n",
       "  <tbody>\n",
       "  </tbody>\n",
       "</table>\n",
       "</div>"
      ],
      "text/plain": [
       "Empty DataFrame\n",
       "Columns: [geo2_code, geo1_name, geo1_match_name, geo2_name, geo2_match_name, geo2_match_score, geo2_match_index]\n",
       "Index: []"
      ]
     },
     "execution_count": 169,
     "metadata": {},
     "output_type": "execute_result"
    }
   ],
   "source": [
    "tmp[tmp.duplicated('geo2_code', keep=False)].sort_values('geo2_code')\\\n",
    "[[\"geo2_code\",\"geo1_name\",\"geo1_match_name\",\"geo2_name\",\"geo2_match_name\",\"geo2_match_score\",\"geo2_match_index\"]]"
   ]
  },
  {
   "cell_type": "markdown",
   "metadata": {},
   "source": [
    "Success! This can be the geo-df."
   ]
  },
  {
   "cell_type": "code",
   "execution_count": 170,
   "metadata": {},
   "outputs": [],
   "source": [
    "nq_geodf = tmp"
   ]
  },
  {
   "cell_type": "code",
   "execution_count": 171,
   "metadata": {
    "scrolled": true
   },
   "outputs": [
    {
     "data": {
      "text/html": [
       "<div>\n",
       "<style scoped>\n",
       "    .dataframe tbody tr th:only-of-type {\n",
       "        vertical-align: middle;\n",
       "    }\n",
       "\n",
       "    .dataframe tbody tr th {\n",
       "        vertical-align: top;\n",
       "    }\n",
       "\n",
       "    .dataframe thead th {\n",
       "        text-align: right;\n",
       "    }\n",
       "</style>\n",
       "<table border=\"1\" class=\"dataframe\">\n",
       "  <thead>\n",
       "    <tr style=\"text-align: right;\">\n",
       "      <th></th>\n",
       "      <th>geo1_name</th>\n",
       "      <th>geo1_match_name</th>\n",
       "      <th>geo2_name</th>\n",
       "      <th>geo2_match_name</th>\n",
       "      <th>geo2_match_score</th>\n",
       "    </tr>\n",
       "  </thead>\n",
       "  <tbody>\n",
       "    <tr>\n",
       "      <th>284</th>\n",
       "      <td>Buenos Aires</td>\n",
       "      <td>Buenos Aires</td>\n",
       "      <td>Marcos Paz</td>\n",
       "      <td>La Costa</td>\n",
       "      <td>62</td>\n",
       "    </tr>\n",
       "    <tr>\n",
       "      <th>645</th>\n",
       "      <td>San Luis</td>\n",
       "      <td>San Luis</td>\n",
       "      <td>Juan Martín de Pueyrredón</td>\n",
       "      <td>Junín</td>\n",
       "      <td>60</td>\n",
       "    </tr>\n",
       "  </tbody>\n",
       "</table>\n",
       "</div>"
      ],
      "text/plain": [
       "        geo1_name geo1_match_name                  geo2_name geo2_match_name  \\\n",
       "284  Buenos Aires    Buenos Aires                 Marcos Paz        La Costa   \n",
       "645      San Luis        San Luis  Juan Martín de Pueyrredón           Junín   \n",
       "\n",
       "     geo2_match_score  \n",
       "284                62  \n",
       "645                60  "
      ]
     },
     "execution_count": 171,
     "metadata": {},
     "output_type": "execute_result"
    }
   ],
   "source": [
    "nq_geodf[(nq_geodf.geo2_match_score<71)][['geo1_name',\n",
    "                                        'geo1_match_name',\n",
    "                                        'geo2_name',\n",
    "                                        'geo2_match_name',\n",
    "                                        'geo2_match_score'\n",
    "                                       ]\n",
    "                                      ].sort_values('geo1_name'\n",
    "                                      )"
   ]
  },
  {
   "cell_type": "code",
   "execution_count": 172,
   "metadata": {
    "scrolled": true
   },
   "outputs": [],
   "source": [
    "has_ipums_geo = nq_geodf.geo2_match_score>=70 #&nq_geodf.geo1_match_index.notna()"
   ]
  },
  {
   "cell_type": "code",
   "execution_count": 173,
   "metadata": {},
   "outputs": [],
   "source": [
    "nq_geodf['IPUMS_geo2_code'] = np.nan\n",
    "\n",
    "nq_geodf.loc[has_ipums_geo,'IPUMS_geo2_code'] = nq_geodf[has_ipums_geo]\\\n",
    "                            .geo2_match_index\\\n",
    "                            .astype(int)\\\n",
    "                            .apply(\n",
    "                                lambda i: ipums_geodf.loc[i,'geo2_code']\n",
    "                            .astype(int)\n",
    ")"
   ]
  },
  {
   "cell_type": "markdown",
   "metadata": {},
   "source": [
    "We want to replace each nq_geo2 with the _code_ for the corresponding census geography.\n",
    "\n"
   ]
  },
  {
   "cell_type": "markdown",
   "metadata": {},
   "source": [
    "Read in the municipio-centroids, and hopefully attach them here."
   ]
  },
  {
   "cell_type": "code",
   "execution_count": 174,
   "metadata": {},
   "outputs": [],
   "source": [
    "geo2_centroids = pd.read_csv('../Data/'+country+'/geography/'+country+'_geo2_centroids.csv', encoding='latin1')"
   ]
  },
  {
   "cell_type": "code",
   "execution_count": 175,
   "metadata": {},
   "outputs": [],
   "source": [
    "nq_geodf_merged = nq_geodf.merge(geo2_centroids[['ADMIN_NAME','Y','X','IPUM'+year]], \n",
    "               left_on='IPUMS_geo2_code',\n",
    "               right_on=\"IPUM\"+year,\n",
    "               how='left'\n",
    "              ).drop('IPUM'+year, axis=1)"
   ]
  },
  {
   "cell_type": "code",
   "execution_count": 176,
   "metadata": {},
   "outputs": [],
   "source": [
    "panel_geo = netquest.merge(nq_geodf_merged[['X','Y','geo2_code']],\n",
    "               left_on=geo2_nq,\n",
    "               right_on='geo2_code',\n",
    "               how='left'\n",
    "              )"
   ]
  },
  {
   "cell_type": "code",
   "execution_count": 177,
   "metadata": {},
   "outputs": [
    {
     "data": {
      "text/plain": [
       "True"
      ]
     },
     "execution_count": 177,
     "metadata": {},
     "output_type": "execute_result"
    }
   ],
   "source": [
    "panel_geo.shape[0]==netquest.shape[0]"
   ]
  },
  {
   "cell_type": "code",
   "execution_count": 178,
   "metadata": {},
   "outputs": [],
   "source": [
    "panel_geo.to_csv('../Data/'+country+'/panel/'+country+'_netquest-panel_geo.csv')"
   ]
  },
  {
   "cell_type": "markdown",
   "metadata": {},
   "source": [
    "And the same for census: attach geographies"
   ]
  },
  {
   "cell_type": "code",
   "execution_count": 179,
   "metadata": {},
   "outputs": [],
   "source": [
    "census_geo = census.merge(geo2_centroids[['ADMIN_NAME','X',\"Y\",'IPUM'+year]],\n",
    "                          left_on = geo2_ipums,\n",
    "                          right_on='IPUM'+year,\n",
    "                          how='left'\n",
    "                         ).drop('IPUM'+year,axis=1)"
   ]
  },
  {
   "cell_type": "code",
   "execution_count": 180,
   "metadata": {},
   "outputs": [
    {
     "data": {
      "text/plain": [
       "True"
      ]
     },
     "execution_count": 180,
     "metadata": {},
     "output_type": "execute_result"
    }
   ],
   "source": [
    "census_geo.shape[0]==census.shape[0]"
   ]
  },
  {
   "cell_type": "code",
   "execution_count": 181,
   "metadata": {},
   "outputs": [],
   "source": [
    "census_geo.to_csv('../Data/'+country+'/sample/'+country+'_ipums-census_geo.csv')"
   ]
  },
  {
   "cell_type": "code",
   "execution_count": null,
   "metadata": {},
   "outputs": [],
   "source": []
  }
 ],
 "metadata": {
  "kernelspec": {
   "display_name": "Python 3",
   "language": "python",
   "name": "python3"
  },
  "language_info": {
   "codemirror_mode": {
    "name": "ipython",
    "version": 3
   },
   "file_extension": ".py",
   "mimetype": "text/x-python",
   "name": "python",
   "nbconvert_exporter": "python",
   "pygments_lexer": "ipython3",
   "version": "3.7.1"
  }
 },
 "nbformat": 4,
 "nbformat_minor": 2
}
