{
 "cells": [
  {
   "cell_type": "code",
   "execution_count": 45,
   "metadata": {},
   "outputs": [],
   "source": [
    "import pandas as pd\n",
    "from fuzzywuzzy import fuzz, process\n",
    "import re\n",
    "import numpy as np\n",
    "import os"
   ]
  },
  {
   "cell_type": "markdown",
   "metadata": {},
   "source": [
    "## The panelists by country"
   ]
  },
  {
   "cell_type": "markdown",
   "metadata": {},
   "source": [
    "Reading in the panel information Netquest gave us."
   ]
  },
  {
   "cell_type": "markdown",
   "metadata": {},
   "source": [
    "### may need to be set"
   ]
  },
  {
   "cell_type": "code",
   "execution_count": 46,
   "metadata": {},
   "outputs": [],
   "source": [
    "paneldate = \"190628\""
   ]
  },
  {
   "cell_type": "markdown",
   "metadata": {},
   "source": [
    "### needs oversight"
   ]
  },
  {
   "cell_type": "code",
   "execution_count": 47,
   "metadata": {},
   "outputs": [],
   "source": [
    "outdir = \"../out/panel_country/\""
   ]
  },
  {
   "cell_type": "code",
   "execution_count": 48,
   "metadata": {},
   "outputs": [
    {
     "name": "stdout",
     "output_type": "stream",
     "text": [
      "loading panel data:  VANDUS_1147438_w2_20190628.csv\n"
     ]
    }
   ],
   "source": [
    "paneldir = (\"C:/Users/schadem/Box Sync/LAPOP Shared/working documents/maita/Coordination/\"+\n",
    "            \"IDB Online Trust/raw/netquest/\"+paneldate+\"/\")\n",
    "panelfile = [s for s in os.listdir(paneldir) if s.endswith(\".csv\")][0]\n",
    "print(\"loading panel data: \", panelfile)\n"
   ]
  },
  {
   "cell_type": "markdown",
   "metadata": {},
   "source": [
    "### this can just do its thing"
   ]
  },
  {
   "cell_type": "code",
   "execution_count": 49,
   "metadata": {},
   "outputs": [
    {
     "name": "stderr",
     "output_type": "stream",
     "text": [
      "C:\\Users\\schadem\\AppData\\Local\\Continuum\\anaconda3\\lib\\site-packages\\IPython\\core\\interactiveshell.py:3058: DtypeWarning: Columns (169) have mixed types. Specify dtype option on import or set low_memory=False.\n",
      "  interactivity=interactivity, compiler=compiler, result=result)\n"
     ]
    }
   ],
   "source": [
    "panels = pd.read_csv(paneldir+panelfile,\n",
    "                     sep=';', \n",
    "#                      skiprows=2891450,\n",
    "#                      nrows=1000000,\n",
    "                     na_values=[' ','.'], \n",
    "                     encoding='latin1',\n",
    "                     #error_bad_lines=False\n",
    "                    )"
   ]
  },
  {
   "cell_type": "markdown",
   "metadata": {},
   "source": [
    "Creating a dictionary of individual country dataframes, and cleaning them up"
   ]
  },
  {
   "cell_type": "code",
   "execution_count": 50,
   "metadata": {},
   "outputs": [],
   "source": [
    "panels_dict = {}\n",
    "for p in panels.pais.unique():\n",
    "    panels_dict[p] = panels[panels.pais==p]#.dropna(axis=1,how='all')"
   ]
  },
  {
   "cell_type": "code",
   "execution_count": 51,
   "metadata": {},
   "outputs": [
    {
     "data": {
      "text/plain": [
       "dict_keys(['CL', 'MX', 'BR', 'PE', 'CO', 'AR'])"
      ]
     },
     "execution_count": 51,
     "metadata": {},
     "output_type": "execute_result"
    }
   ],
   "source": [
    "panels_dict.keys()"
   ]
  },
  {
   "cell_type": "markdown",
   "metadata": {},
   "source": [
    "Where does the data go?"
   ]
  },
  {
   "cell_type": "code",
   "execution_count": 52,
   "metadata": {},
   "outputs": [],
   "source": [
    "for pais, data in panels_dict.items():\n",
    "    if not os.path.isdir(outdir):\n",
    "        os.mkdir(outdir)\n",
    "    data.to_csv(outdir+pais+\"_netquest-panel.csv\", encoding='utf8',index=False)"
   ]
  },
  {
   "cell_type": "markdown",
   "metadata": {},
   "source": [
    "Next, bring the variables and labels in order."
   ]
  },
  {
   "cell_type": "code",
   "execution_count": 53,
   "metadata": {},
   "outputs": [],
   "source": [
    "variables = pd.read_excel(paneldir+\"manual_variables.xlsx\",skiprows=0)\n",
    "levels = pd.read_excel(paneldir+\"manual_levels.xlsx\")\n",
    "# this expects a the first and second sheet of netquest background export manual\n",
    "# with first line (title) removed"
   ]
  },
  {
   "cell_type": "code",
   "execution_count": 54,
   "metadata": {},
   "outputs": [
    {
     "name": "stdout",
     "output_type": "stream",
     "text": [
      "True\n"
     ]
    }
   ],
   "source": [
    "print((\"Variable\" in variables.columns) & (\"Variable\" in levels.columns))"
   ]
  },
  {
   "cell_type": "code",
   "execution_count": 55,
   "metadata": {},
   "outputs": [],
   "source": [
    "variables_dict = {}\n",
    "levels_dict = {}\n",
    "countryexp = re.compile(\"^([A-Z]{2,2})_\")\n",
    "\n",
    "for pais in panels_dict:\n",
    "    all_countries = variables.Variable.apply(countryexp.findall).apply(lambda l: l[0].lower() if len(l)>0 else \"None\").unique()\n",
    "    other_countries = [p.lower() for p in all_countries if not p==pais]\n",
    "    var_df = variables[(variables.Variable.str.lower().str.startswith(pais.lower())) #country-specific var\n",
    "                       | (variables.Variable.apply(lambda s: sum([s.lower().startswith(k) for k in all_countries]))==0) #not specific for another country\n",
    "                       | variables.Variable.isin([\"panelistAge\",\"DESKTOP_RESPONDENT\",\"DEVICE\",\"DESK\",\"TARGET\",\n",
    "                                                  \"SOCIODEMOGRAPHICS_DATE_V0\",\"SOCIODEMOGRAPHICS_QUEST_V0\"])\n",
    "                       | variables.Variable.str.contains(\"PNuevo\")\n",
    "                      ]\n",
    "                       \n",
    "    lev_df = levels[levels.Variable.isin(var_df.Variable)]\n",
    "    \n",
    "    variables_dict[pais] = var_df\n",
    "    levels_dict[pais] = lev_df\n",
    "    \n",
    "    var_df.to_excel(outdir+pais+'_variables.xlsx',index=False)\n",
    "    lev_df.to_excel(outdir+pais+'_levels.xlsx',index=False)\n",
    "    "
   ]
  },
  {
   "cell_type": "markdown",
   "metadata": {},
   "source": [
    "## needs supervision\n",
    "Check which variables are dropped at this stage"
   ]
  },
  {
   "cell_type": "code",
   "execution_count": 56,
   "metadata": {},
   "outputs": [
    {
     "data": {
      "text/plain": [
       "[]"
      ]
     },
     "execution_count": 56,
     "metadata": {},
     "output_type": "execute_result"
    }
   ],
   "source": [
    "list(filter(lambda x: sum([x in v[1].Variable.unique() for v in variables_dict.items()])==0, variables.Variable))"
   ]
  },
  {
   "cell_type": "code",
   "execution_count": null,
   "metadata": {},
   "outputs": [],
   "source": []
  }
 ],
 "metadata": {
  "kernelspec": {
   "display_name": "Python 3",
   "language": "python",
   "name": "python3"
  },
  "language_info": {
   "codemirror_mode": {
    "name": "ipython",
    "version": 3
   },
   "file_extension": ".py",
   "mimetype": "text/x-python",
   "name": "python",
   "nbconvert_exporter": "python",
   "pygments_lexer": "ipython3",
   "version": "3.7.3"
  }
 },
 "nbformat": 4,
 "nbformat_minor": 2
}
