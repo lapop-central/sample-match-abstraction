{
 "cells": [
  {
   "cell_type": "code",
   "execution_count": 25,
   "metadata": {},
   "outputs": [],
   "source": [
    "import pandas as pd\n",
    "from fuzzywuzzy import fuzz, process\n",
    "import re\n",
    "import numpy as np\n",
    "import os"
   ]
  },
  {
   "cell_type": "markdown",
   "metadata": {},
   "source": [
    "## The panelists by country"
   ]
  },
  {
   "cell_type": "markdown",
   "metadata": {},
   "source": [
    "Reading in the panel information Netquest gave us."
   ]
  },
  {
   "cell_type": "markdown",
   "metadata": {},
   "source": [
    "### may need to be set"
   ]
  },
  {
   "cell_type": "code",
   "execution_count": 26,
   "metadata": {},
   "outputs": [],
   "source": [
    "paneldate = \"191120\""
   ]
  },
  {
   "cell_type": "markdown",
   "metadata": {},
   "source": [
    "### needs oversight"
   ]
  },
  {
   "cell_type": "code",
   "execution_count": 27,
   "metadata": {},
   "outputs": [],
   "source": [
    "outdir = \"../out/panel_country/\""
   ]
  },
  {
   "cell_type": "code",
   "execution_count": 28,
   "metadata": {},
   "outputs": [
    {
     "name": "stdout",
     "output_type": "stream",
     "text": [
      "loading panel data:  VANDUS 1147438_W4_20191120.csv\n"
     ]
    }
   ],
   "source": [
    "paneldir = (\"C:/Users/schadem/Box Sync/LAPOP Shared/working documents/maita/Coordination/\"+\n",
    "            \"IDB Online Trust/raw/netquest/\"+paneldate+\"/\")\n",
    "panelfile = [s for s in os.listdir(paneldir) if s.endswith(\".csv\")][0]\n",
    "print(\"loading panel data: \", panelfile)\n"
   ]
  },
  {
   "cell_type": "markdown",
   "metadata": {},
   "source": [
    "### this can just do its thing"
   ]
  },
  {
   "cell_type": "code",
   "execution_count": 29,
   "metadata": {},
   "outputs": [
    {
     "name": "stderr",
     "output_type": "stream",
     "text": [
      "C:\\Users\\schadem\\AppData\\Local\\Continuum\\anaconda3\\lib\\site-packages\\IPython\\core\\interactiveshell.py:3058: DtypeWarning: Columns (536,537) have mixed types. Specify dtype option on import or set low_memory=False.\n",
      "  interactivity=interactivity, compiler=compiler, result=result)\n"
     ]
    }
   ],
   "source": [
    "panels = pd.read_csv(paneldir+panelfile,\n",
    "                     sep=';', \n",
    "#                      skiprows=2891450,\n",
    "#                      nrows=1000000,\n",
    "                     na_values=[' ','.'], \n",
    "                     encoding='latin1',\n",
    "                     #error_bad_lines=False\n",
    "                    )"
   ]
  },
  {
   "cell_type": "code",
   "execution_count": 30,
   "metadata": {},
   "outputs": [
    {
     "data": {
      "text/plain": [
       "['COUNTRY']"
      ]
     },
     "execution_count": 30,
     "metadata": {},
     "output_type": "execute_result"
    }
   ],
   "source": [
    "[k for k in panels.columns if \"departamento\" in k]\n",
    "[k for k in panels.columns if \"COUNTRY\" in k]"
   ]
  },
  {
   "cell_type": "markdown",
   "metadata": {},
   "source": [
    "Creating a dictionary of individual country dataframes, and cleaning them up"
   ]
  },
  {
   "cell_type": "code",
   "execution_count": 31,
   "metadata": {},
   "outputs": [],
   "source": [
    "panels_dict = {}\n",
    "for p in panels.COUNTRY.unique():\n",
    "    panels_dict[p] = panels[panels.COUNTRY==p]#.dropna(axis=1,how='all')"
   ]
  },
  {
   "cell_type": "code",
   "execution_count": 32,
   "metadata": {},
   "outputs": [
    {
     "data": {
      "text/plain": [
       "dict_keys(['BR', 'MX', 'AR', 'PE', 'CL', 'CO'])"
      ]
     },
     "execution_count": 32,
     "metadata": {},
     "output_type": "execute_result"
    }
   ],
   "source": [
    "panels_dict.keys()"
   ]
  },
  {
   "cell_type": "markdown",
   "metadata": {},
   "source": [
    "Where does the data go?"
   ]
  },
  {
   "cell_type": "code",
   "execution_count": 58,
   "metadata": {},
   "outputs": [
    {
     "name": "stdout",
     "output_type": "stream",
     "text": [
      "working on BR\n"
     ]
    },
    {
     "ename": "KeyboardInterrupt",
     "evalue": "",
     "output_type": "error",
     "traceback": [
      "\u001b[1;31m---------------------------------------------------------------------------\u001b[0m",
      "\u001b[1;31mKeyboardInterrupt\u001b[0m                         Traceback (most recent call last)",
      "\u001b[1;32m<ipython-input-58-d24570acbfba>\u001b[0m in \u001b[0;36m<module>\u001b[1;34m\u001b[0m\n\u001b[0;32m      4\u001b[0m         \u001b[0mos\u001b[0m\u001b[1;33m.\u001b[0m\u001b[0mmkdir\u001b[0m\u001b[1;33m(\u001b[0m\u001b[0moutdir\u001b[0m\u001b[1;33m)\u001b[0m\u001b[1;33m\u001b[0m\u001b[1;33m\u001b[0m\u001b[0m\n\u001b[0;32m      5\u001b[0m     \u001b[0mdata\u001b[0m\u001b[1;33m.\u001b[0m\u001b[0mcolumns\u001b[0m \u001b[1;33m=\u001b[0m \u001b[0mdata\u001b[0m\u001b[1;33m.\u001b[0m\u001b[0mcolumns\u001b[0m\u001b[1;33m.\u001b[0m\u001b[0mstr\u001b[0m\u001b[1;33m.\u001b[0m\u001b[0mstrip\u001b[0m\u001b[1;33m(\u001b[0m\u001b[1;33m)\u001b[0m\u001b[1;33m\u001b[0m\u001b[1;33m\u001b[0m\u001b[0m\n\u001b[1;32m----> 6\u001b[1;33m     \u001b[0mdata\u001b[0m\u001b[1;33m.\u001b[0m\u001b[0mto_csv\u001b[0m\u001b[1;33m(\u001b[0m\u001b[0moutdir\u001b[0m\u001b[1;33m+\u001b[0m\u001b[0mpais\u001b[0m\u001b[1;33m+\u001b[0m\u001b[1;34m\"_netquest-panel.csv\"\u001b[0m\u001b[1;33m,\u001b[0m \u001b[0mencoding\u001b[0m\u001b[1;33m=\u001b[0m\u001b[1;34m'utf8'\u001b[0m\u001b[1;33m,\u001b[0m\u001b[0mindex\u001b[0m\u001b[1;33m=\u001b[0m\u001b[1;32mFalse\u001b[0m\u001b[1;33m)\u001b[0m\u001b[1;33m\u001b[0m\u001b[1;33m\u001b[0m\u001b[0m\n\u001b[0m",
      "\u001b[1;32m~\\AppData\\Local\\Continuum\\anaconda3\\lib\\site-packages\\pandas\\core\\generic.py\u001b[0m in \u001b[0;36mto_csv\u001b[1;34m(self, path_or_buf, sep, na_rep, float_format, columns, header, index, index_label, mode, encoding, compression, quoting, quotechar, line_terminator, chunksize, date_format, doublequote, escapechar, decimal)\u001b[0m\n\u001b[0;32m   3226\u001b[0m             \u001b[0mdecimal\u001b[0m\u001b[1;33m=\u001b[0m\u001b[0mdecimal\u001b[0m\u001b[1;33m,\u001b[0m\u001b[1;33m\u001b[0m\u001b[1;33m\u001b[0m\u001b[0m\n\u001b[0;32m   3227\u001b[0m         )\n\u001b[1;32m-> 3228\u001b[1;33m         \u001b[0mformatter\u001b[0m\u001b[1;33m.\u001b[0m\u001b[0msave\u001b[0m\u001b[1;33m(\u001b[0m\u001b[1;33m)\u001b[0m\u001b[1;33m\u001b[0m\u001b[1;33m\u001b[0m\u001b[0m\n\u001b[0m\u001b[0;32m   3229\u001b[0m \u001b[1;33m\u001b[0m\u001b[0m\n\u001b[0;32m   3230\u001b[0m         \u001b[1;32mif\u001b[0m \u001b[0mpath_or_buf\u001b[0m \u001b[1;32mis\u001b[0m \u001b[1;32mNone\u001b[0m\u001b[1;33m:\u001b[0m\u001b[1;33m\u001b[0m\u001b[1;33m\u001b[0m\u001b[0m\n",
      "\u001b[1;32m~\\AppData\\Local\\Continuum\\anaconda3\\lib\\site-packages\\pandas\\io\\formats\\csvs.py\u001b[0m in \u001b[0;36msave\u001b[1;34m(self)\u001b[0m\n\u001b[0;32m    200\u001b[0m                 \u001b[0mself\u001b[0m\u001b[1;33m.\u001b[0m\u001b[0mwriter\u001b[0m \u001b[1;33m=\u001b[0m \u001b[0mUnicodeWriter\u001b[0m\u001b[1;33m(\u001b[0m\u001b[0mf\u001b[0m\u001b[1;33m,\u001b[0m \u001b[1;33m**\u001b[0m\u001b[0mwriter_kwargs\u001b[0m\u001b[1;33m)\u001b[0m\u001b[1;33m\u001b[0m\u001b[1;33m\u001b[0m\u001b[0m\n\u001b[0;32m    201\u001b[0m \u001b[1;33m\u001b[0m\u001b[0m\n\u001b[1;32m--> 202\u001b[1;33m             \u001b[0mself\u001b[0m\u001b[1;33m.\u001b[0m\u001b[0m_save\u001b[0m\u001b[1;33m(\u001b[0m\u001b[1;33m)\u001b[0m\u001b[1;33m\u001b[0m\u001b[1;33m\u001b[0m\u001b[0m\n\u001b[0m\u001b[0;32m    203\u001b[0m \u001b[1;33m\u001b[0m\u001b[0m\n\u001b[0;32m    204\u001b[0m         \u001b[1;32mfinally\u001b[0m\u001b[1;33m:\u001b[0m\u001b[1;33m\u001b[0m\u001b[1;33m\u001b[0m\u001b[0m\n",
      "\u001b[1;32m~\\AppData\\Local\\Continuum\\anaconda3\\lib\\site-packages\\pandas\\io\\formats\\csvs.py\u001b[0m in \u001b[0;36m_save\u001b[1;34m(self)\u001b[0m\n\u001b[0;32m    322\u001b[0m                 \u001b[1;32mbreak\u001b[0m\u001b[1;33m\u001b[0m\u001b[1;33m\u001b[0m\u001b[0m\n\u001b[0;32m    323\u001b[0m \u001b[1;33m\u001b[0m\u001b[0m\n\u001b[1;32m--> 324\u001b[1;33m             \u001b[0mself\u001b[0m\u001b[1;33m.\u001b[0m\u001b[0m_save_chunk\u001b[0m\u001b[1;33m(\u001b[0m\u001b[0mstart_i\u001b[0m\u001b[1;33m,\u001b[0m \u001b[0mend_i\u001b[0m\u001b[1;33m)\u001b[0m\u001b[1;33m\u001b[0m\u001b[1;33m\u001b[0m\u001b[0m\n\u001b[0m\u001b[0;32m    325\u001b[0m \u001b[1;33m\u001b[0m\u001b[0m\n\u001b[0;32m    326\u001b[0m     \u001b[1;32mdef\u001b[0m \u001b[0m_save_chunk\u001b[0m\u001b[1;33m(\u001b[0m\u001b[0mself\u001b[0m\u001b[1;33m,\u001b[0m \u001b[0mstart_i\u001b[0m\u001b[1;33m,\u001b[0m \u001b[0mend_i\u001b[0m\u001b[1;33m)\u001b[0m\u001b[1;33m:\u001b[0m\u001b[1;33m\u001b[0m\u001b[1;33m\u001b[0m\u001b[0m\n",
      "\u001b[1;32m~\\AppData\\Local\\Continuum\\anaconda3\\lib\\site-packages\\pandas\\io\\formats\\csvs.py\u001b[0m in \u001b[0;36m_save_chunk\u001b[1;34m(self, start_i, end_i)\u001b[0m\n\u001b[0;32m    338\u001b[0m                 \u001b[0mdecimal\u001b[0m\u001b[1;33m=\u001b[0m\u001b[0mself\u001b[0m\u001b[1;33m.\u001b[0m\u001b[0mdecimal\u001b[0m\u001b[1;33m,\u001b[0m\u001b[1;33m\u001b[0m\u001b[1;33m\u001b[0m\u001b[0m\n\u001b[0;32m    339\u001b[0m                 \u001b[0mdate_format\u001b[0m\u001b[1;33m=\u001b[0m\u001b[0mself\u001b[0m\u001b[1;33m.\u001b[0m\u001b[0mdate_format\u001b[0m\u001b[1;33m,\u001b[0m\u001b[1;33m\u001b[0m\u001b[1;33m\u001b[0m\u001b[0m\n\u001b[1;32m--> 340\u001b[1;33m                 \u001b[0mquoting\u001b[0m\u001b[1;33m=\u001b[0m\u001b[0mself\u001b[0m\u001b[1;33m.\u001b[0m\u001b[0mquoting\u001b[0m\u001b[1;33m,\u001b[0m\u001b[1;33m\u001b[0m\u001b[1;33m\u001b[0m\u001b[0m\n\u001b[0m\u001b[0;32m    341\u001b[0m             )\n\u001b[0;32m    342\u001b[0m \u001b[1;33m\u001b[0m\u001b[0m\n",
      "\u001b[1;32m~\\AppData\\Local\\Continuum\\anaconda3\\lib\\site-packages\\pandas\\core\\internals\\blocks.py\u001b[0m in \u001b[0;36mto_native_types\u001b[1;34m(self, slicer, na_rep, float_format, decimal, quoting, **kwargs)\u001b[0m\n\u001b[0;32m   2127\u001b[0m         \u001b[1;31m# so do not pass it through the FloatArrayFormatter\u001b[0m\u001b[1;33m\u001b[0m\u001b[1;33m\u001b[0m\u001b[1;33m\u001b[0m\u001b[0m\n\u001b[0;32m   2128\u001b[0m         \u001b[1;32mif\u001b[0m \u001b[0mfloat_format\u001b[0m \u001b[1;32mis\u001b[0m \u001b[1;32mNone\u001b[0m \u001b[1;32mand\u001b[0m \u001b[0mdecimal\u001b[0m \u001b[1;33m==\u001b[0m \u001b[1;34m\".\"\u001b[0m\u001b[1;33m:\u001b[0m\u001b[1;33m\u001b[0m\u001b[1;33m\u001b[0m\u001b[0m\n\u001b[1;32m-> 2129\u001b[1;33m             \u001b[0mmask\u001b[0m \u001b[1;33m=\u001b[0m \u001b[0misna\u001b[0m\u001b[1;33m(\u001b[0m\u001b[0mvalues\u001b[0m\u001b[1;33m)\u001b[0m\u001b[1;33m\u001b[0m\u001b[1;33m\u001b[0m\u001b[0m\n\u001b[0m\u001b[0;32m   2130\u001b[0m \u001b[1;33m\u001b[0m\u001b[0m\n\u001b[0;32m   2131\u001b[0m             \u001b[1;32mif\u001b[0m \u001b[1;32mnot\u001b[0m \u001b[0mquoting\u001b[0m\u001b[1;33m:\u001b[0m\u001b[1;33m\u001b[0m\u001b[1;33m\u001b[0m\u001b[0m\n",
      "\u001b[1;32m~\\AppData\\Local\\Continuum\\anaconda3\\lib\\site-packages\\pandas\\core\\dtypes\\missing.py\u001b[0m in \u001b[0;36misna\u001b[1;34m(obj)\u001b[0m\n\u001b[0;32m    120\u001b[0m     \u001b[0mName\u001b[0m\u001b[1;33m:\u001b[0m \u001b[1;36m1\u001b[0m\u001b[1;33m,\u001b[0m \u001b[0mdtype\u001b[0m\u001b[1;33m:\u001b[0m \u001b[0mbool\u001b[0m\u001b[1;33m\u001b[0m\u001b[1;33m\u001b[0m\u001b[0m\n\u001b[0;32m    121\u001b[0m     \"\"\"\n\u001b[1;32m--> 122\u001b[1;33m     \u001b[1;32mreturn\u001b[0m \u001b[0m_isna\u001b[0m\u001b[1;33m(\u001b[0m\u001b[0mobj\u001b[0m\u001b[1;33m)\u001b[0m\u001b[1;33m\u001b[0m\u001b[1;33m\u001b[0m\u001b[0m\n\u001b[0m\u001b[0;32m    123\u001b[0m \u001b[1;33m\u001b[0m\u001b[0m\n\u001b[0;32m    124\u001b[0m \u001b[1;33m\u001b[0m\u001b[0m\n",
      "\u001b[1;32m~\\AppData\\Local\\Continuum\\anaconda3\\lib\\site-packages\\pandas\\core\\dtypes\\missing.py\u001b[0m in \u001b[0;36m_isna_new\u001b[1;34m(obj)\u001b[0m\n\u001b[0;32m    145\u001b[0m         ),\n\u001b[0;32m    146\u001b[0m     ):\n\u001b[1;32m--> 147\u001b[1;33m         \u001b[1;32mreturn\u001b[0m \u001b[0m_isna_ndarraylike\u001b[0m\u001b[1;33m(\u001b[0m\u001b[0mobj\u001b[0m\u001b[1;33m)\u001b[0m\u001b[1;33m\u001b[0m\u001b[1;33m\u001b[0m\u001b[0m\n\u001b[0m\u001b[0;32m    148\u001b[0m     \u001b[1;32melif\u001b[0m \u001b[0misinstance\u001b[0m\u001b[1;33m(\u001b[0m\u001b[0mobj\u001b[0m\u001b[1;33m,\u001b[0m \u001b[0mABCGeneric\u001b[0m\u001b[1;33m)\u001b[0m\u001b[1;33m:\u001b[0m\u001b[1;33m\u001b[0m\u001b[1;33m\u001b[0m\u001b[0m\n\u001b[0;32m    149\u001b[0m         \u001b[1;32mreturn\u001b[0m \u001b[0mobj\u001b[0m\u001b[1;33m.\u001b[0m\u001b[0m_constructor\u001b[0m\u001b[1;33m(\u001b[0m\u001b[0mobj\u001b[0m\u001b[1;33m.\u001b[0m\u001b[0m_data\u001b[0m\u001b[1;33m.\u001b[0m\u001b[0misna\u001b[0m\u001b[1;33m(\u001b[0m\u001b[0mfunc\u001b[0m\u001b[1;33m=\u001b[0m\u001b[0misna\u001b[0m\u001b[1;33m)\u001b[0m\u001b[1;33m)\u001b[0m\u001b[1;33m\u001b[0m\u001b[1;33m\u001b[0m\u001b[0m\n",
      "\u001b[1;32m~\\AppData\\Local\\Continuum\\anaconda3\\lib\\site-packages\\pandas\\core\\dtypes\\missing.py\u001b[0m in \u001b[0;36m_isna_ndarraylike\u001b[1;34m(obj)\u001b[0m\n\u001b[0;32m    254\u001b[0m         \u001b[0mresult\u001b[0m \u001b[1;33m=\u001b[0m \u001b[0mvalues\u001b[0m\u001b[1;33m.\u001b[0m\u001b[0mview\u001b[0m\u001b[1;33m(\u001b[0m\u001b[1;34m\"i8\"\u001b[0m\u001b[1;33m)\u001b[0m \u001b[1;33m==\u001b[0m \u001b[0miNaT\u001b[0m\u001b[1;33m\u001b[0m\u001b[1;33m\u001b[0m\u001b[0m\n\u001b[0;32m    255\u001b[0m     \u001b[1;32melse\u001b[0m\u001b[1;33m:\u001b[0m\u001b[1;33m\u001b[0m\u001b[1;33m\u001b[0m\u001b[0m\n\u001b[1;32m--> 256\u001b[1;33m         \u001b[0mresult\u001b[0m \u001b[1;33m=\u001b[0m \u001b[0mnp\u001b[0m\u001b[1;33m.\u001b[0m\u001b[0misnan\u001b[0m\u001b[1;33m(\u001b[0m\u001b[0mvalues\u001b[0m\u001b[1;33m)\u001b[0m\u001b[1;33m\u001b[0m\u001b[1;33m\u001b[0m\u001b[0m\n\u001b[0m\u001b[0;32m    257\u001b[0m \u001b[1;33m\u001b[0m\u001b[0m\n\u001b[0;32m    258\u001b[0m     \u001b[1;31m# box\u001b[0m\u001b[1;33m\u001b[0m\u001b[1;33m\u001b[0m\u001b[1;33m\u001b[0m\u001b[0m\n",
      "\u001b[1;31mKeyboardInterrupt\u001b[0m: "
     ]
    }
   ],
   "source": [
    "for pais, data in panels_dict.items():\n",
    "    print(\"working on \"+pais)\n",
    "    if not os.path.isdir(outdir):\n",
    "        os.mkdir(outdir)\n",
    "    data.columns = data.columns.str.strip()\n",
    "    data.to_csv(outdir+pais+\"_netquest-panel.csv\", encoding='utf8',index=False)"
   ]
  },
  {
   "cell_type": "code",
   "execution_count": 34,
   "metadata": {},
   "outputs": [
    {
     "data": {
      "text/plain": [
       "1.0    61698\n",
       "0.0    54486\n",
       "Name: PE_NSE_comodities#7, dtype: int64"
      ]
     },
     "execution_count": 34,
     "metadata": {},
     "output_type": "execute_result"
    }
   ],
   "source": [
    "panels_dict[\"PE\"][\"PE_NSE_comodities#7\"].value_counts()"
   ]
  },
  {
   "cell_type": "markdown",
   "metadata": {},
   "source": [
    "Next, bring the variables and labels in order."
   ]
  },
  {
   "cell_type": "code",
   "execution_count": 52,
   "metadata": {},
   "outputs": [],
   "source": [
    "#manual_dict = pd.read_excel(paneldir+\"Manual.xlsx\",skiprows=1,sheet_name=None,)\n",
    "variables = manual_dict['Variables']\n",
    "variables.Variable = variables.Variable.str.strip()"
   ]
  },
  {
   "cell_type": "code",
   "execution_count": 54,
   "metadata": {},
   "outputs": [],
   "source": [
    "levels = pd.concat(\n",
    "    [manual_dict[k] for k in manual_dict.keys() if \"Código\" in k]\n",
    ").fillna(method='ffill')\n",
    "levels.columns = [\"Variable\",\"Valor\",\"Etiqueta\"]\n",
    "levels.Variable = levels.Variable.str.strip()\n",
    "#levels = pd.read_excel(paneldir+\"manual_levels.xlsx\")\n",
    "# this expects a the first and second sheet of netquest background export manual\n",
    "# with first line (title) removed"
   ]
  },
  {
   "cell_type": "code",
   "execution_count": 55,
   "metadata": {},
   "outputs": [
    {
     "name": "stdout",
     "output_type": "stream",
     "text": [
      "True\n"
     ]
    }
   ],
   "source": [
    "print((\"Variable\" in variables.columns) & (\"Variable\" in levels.columns))"
   ]
  },
  {
   "cell_type": "code",
   "execution_count": 56,
   "metadata": {},
   "outputs": [],
   "source": [
    "variables_dict = {}\n",
    "levels_dict = {}\n",
    "countryexp = re.compile(\"^([A-Z]{2,2})_\")\n",
    "\n",
    "for pais in panels_dict:\n",
    "    all_countries = variables.Variable.apply(countryexp.findall).apply(lambda l: l[0].lower() if len(l)>0 else \"None\").unique()\n",
    "    other_countries = [p.lower() for p in all_countries if not p==pais]\n",
    "    var_df = variables[(variables.Variable.str.lower().str.startswith(pais.lower())) #country-specific var\n",
    "                       | (variables.Variable.apply(lambda s: sum([s.lower().startswith(k) for k in all_countries]))==0) #not specific for another country\n",
    "                       | variables.Variable.isin([\"panelistAge\",\"DESKTOP_RESPONDENT\",\"DEVICE\",\"DESK\",\"TARGET\",\n",
    "                                                  \"SOCIODEMOGRAPHICS_DATE_V0\",\"SOCIODEMOGRAPHICS_QUEST_V0\"])\n",
    "                       | variables.Variable.str.contains(\"PNuevo\")\n",
    "                      ]\n",
    "                       \n",
    "    lev_df = levels[levels.Variable.isin(var_df.Variable)]\n",
    "    \n",
    "    variables_dict[pais] = var_df\n",
    "    levels_dict[pais] = lev_df\n",
    "    \n",
    "    var_df.to_excel(outdir+pais+'_variables.xlsx',index=False)\n",
    "    lev_df.to_excel(outdir+pais+'_levels.xlsx',index=False)\n",
    "    "
   ]
  },
  {
   "cell_type": "markdown",
   "metadata": {},
   "source": [
    "## needs supervision\n",
    "Check which variables are dropped at this stage"
   ]
  },
  {
   "cell_type": "code",
   "execution_count": 65,
   "metadata": {},
   "outputs": [
    {
     "data": {
      "text/plain": [
       "['BO_departamento',\n",
       " 'BO_education_level',\n",
       " 'BO_education_level_hhousehold',\n",
       " 'BO_laboral_situation',\n",
       " 'BO_laboral_situation_hhousehold',\n",
       " 'BO_municipio',\n",
       " 'BO_provincia',\n",
       " 'CRCSOCIAL',\n",
       " 'CR_canton',\n",
       " 'CR_cp',\n",
       " 'CR_distrito',\n",
       " 'CR_education_level',\n",
       " 'CR_education_level_hhousehold',\n",
       " 'CR_laboral_situation',\n",
       " 'CR_laboral_situation_hhousehold',\n",
       " 'CR_NSE_cars',\n",
       " 'CR_NSE_computer',\n",
       " 'CR_NSE_flights',\n",
       " 'CR_NSE_internet',\n",
       " 'CR_NSE_lights',\n",
       " 'CR_NSE_maid',\n",
       " 'CR_NSE_rooms',\n",
       " 'CR_NSE_washingmachine',\n",
       " 'CR_NSE_year_car',\n",
       " 'CR_occupation',\n",
       " 'CR_occupation_hhousehold',\n",
       " 'CR_provincia',\n",
       " 'DO_cp',\n",
       " 'DO_distrito_municipal',\n",
       " 'DO_education_level',\n",
       " 'DO_education_level_hhousehold',\n",
       " 'DO_laboral_situation',\n",
       " 'DO_laboral_situation_hhousehold',\n",
       " 'DO_municipio',\n",
       " 'DO_provincia',\n",
       " 'ECCSOCIAL',\n",
       " 'EC_canton',\n",
       " 'EC_cp',\n",
       " 'EC_education_level',\n",
       " 'EC_education_level_hhousehold',\n",
       " 'EC_laboral_situation',\n",
       " 'EC_laboral_situation_hhousehold',\n",
       " 'EC_NSE_autos',\n",
       " 'EC_NSE_baths',\n",
       " 'EC_NSE_book',\n",
       " 'EC_NSE_cellphone',\n",
       " 'EC_NSE_desktop',\n",
       " 'EC_NSE_email',\n",
       " 'EC_NSE_Healthcare',\n",
       " 'EC_NSE_housing',\n",
       " 'EC_NSE_IESS',\n",
       " 'EC_NSE_internet',\n",
       " 'EC_NSE_internetathome',\n",
       " 'EC_NSE_laptop',\n",
       " 'EC_NSE_mall',\n",
       " 'EC_NSE_pavement',\n",
       " 'EC_NSE_socialnetwork',\n",
       " 'EC_NSE_TV',\n",
       " 'EC_NSE_walls',\n",
       " 'EC_NSE_WC',\n",
       " 'EC_parroquia',\n",
       " 'EC_provincia',\n",
       " 'ES_cp',\n",
       " 'ES_education_level',\n",
       " 'ES_education_level_hhousehold',\n",
       " 'ES_laboral_situation',\n",
       " 'ES_laboral_situation_hhousehold',\n",
       " 'ES_occupation',\n",
       " 'ES_occupation_hhousehold',\n",
       " 'ES_poblacion',\n",
       " 'ES_position',\n",
       " 'ES_position_hhousehold',\n",
       " 'ES_provincia',\n",
       " 'ES_timeoccupation',\n",
       " 'ES_timeoccupation_hhousehold',\n",
       " 'GTCSOCIAL',\n",
       " 'GT_cp',\n",
       " 'GT_departamento',\n",
       " 'GT_education_level',\n",
       " 'GT_education_level_hhousehold',\n",
       " 'GT_laboral_situation',\n",
       " 'GT_laboral_situation_hhousehold',\n",
       " 'GT_municipio',\n",
       " 'GT_NSE_cars',\n",
       " 'GT_NSE_computer',\n",
       " 'GT_NSE_flights',\n",
       " 'GT_NSE_internet',\n",
       " 'GT_NSE_lights',\n",
       " 'GT_NSE_maid',\n",
       " 'GT_NSE_rooms',\n",
       " 'GT_NSE_washingmachine',\n",
       " 'GT_NSE_year_car',\n",
       " 'GT_occupation',\n",
       " 'GT_occupation_hhousehold',\n",
       " 'HN_cp',\n",
       " 'HN_departamento',\n",
       " 'HN_education_level',\n",
       " 'HN_education_level_hhousehold',\n",
       " 'HN_laboral_situation',\n",
       " 'HN_laboral_situation_hhousehold',\n",
       " 'HN_localidad',\n",
       " 'HN_municipio',\n",
       " 'NI_departamento',\n",
       " 'NI_education_level',\n",
       " 'NI_education_level_hhousehold',\n",
       " 'NI_laboral_situation',\n",
       " 'NI_laboral_situation_hhousehold',\n",
       " 'NI_municipio',\n",
       " 'PA_corregimiento',\n",
       " 'PA_distrito',\n",
       " 'PA_education_level',\n",
       " 'PA_education_level_hhousehold',\n",
       " 'PA_laboral_situation',\n",
       " 'PA_laboral_situation_hhousehold',\n",
       " 'PA_provincia',\n",
       " 'PR_cp',\n",
       " 'PR_education_level',\n",
       " 'PR_education_level_hhousehold',\n",
       " 'PR_laboral_situation',\n",
       " 'PR_laboral_situation_hhousehold',\n",
       " 'PR_municipio',\n",
       " 'PTCSOCIAL',\n",
       " 'PT_concelho',\n",
       " 'PT_cp',\n",
       " 'PT_distrito',\n",
       " 'PT_education_level',\n",
       " 'PT_education_level_hhousehold',\n",
       " 'PT_laboral_situation',\n",
       " 'PT_laboral_situation_hhousehold',\n",
       " 'PYCSOCIAL',\n",
       " 'PY_cp',\n",
       " 'PY_departamento',\n",
       " 'PY_distrito_barrio',\n",
       " 'PY_education_level',\n",
       " 'PY_education_level_hhousehold',\n",
       " 'PY_laboral_situation',\n",
       " 'PY_laboral_situation_hhousehold',\n",
       " 'PY_NSE_bath',\n",
       " 'PY_NSE_cars',\n",
       " 'PY_NSE_creditcard',\n",
       " 'PY_NSE_degree',\n",
       " 'PY_NSE_freezer',\n",
       " 'PY_NSE_income',\n",
       " 'PY_NSE_maid',\n",
       " 'PY_NSE_TV',\n",
       " 'SVCSOCIAL',\n",
       " 'SV_departamento',\n",
       " 'SV_education_level',\n",
       " 'SV_education_level_hhousehold',\n",
       " 'SV_laboral_situation',\n",
       " 'SV_laboral_situation_hhousehold',\n",
       " 'SV_municipio',\n",
       " 'SV_NSE_bath',\n",
       " 'SV_NSE_cars',\n",
       " 'SV_NSE_pavement',\n",
       " 'SV_NSE_transport',\n",
       " 'SV_NSE_year_car',\n",
       " 'SV_occupation',\n",
       " 'SV_occupation_hhousehold',\n",
       " 'US_acculturation_base',\n",
       " 'US_calibration_Internethours',\n",
       " 'US_calibration_InternetMinutes',\n",
       " 'US_calibration_Internetopinion',\n",
       " 'US_calibration_newproducts',\n",
       " 'US_calibration_TVhours',\n",
       " 'US_calibration_TVMinutes',\n",
       " 'US_calification',\n",
       " 'US_city',\n",
       " 'US_country_born',\n",
       " 'US_county',\n",
       " 'US_cp',\n",
       " 'US_cultural_identification',\n",
       " 'US_education_level',\n",
       " 'US_ethnic_group',\n",
       " 'US_GRA_acculturation',\n",
       " 'US_hispanic',\n",
       " 'US_laboral_situation',\n",
       " 'US_media_habits',\n",
       " 'US_monthly_hh_grossincome',\n",
       " 'US_occupation',\n",
       " 'US_speak_new',\n",
       " 'US_standard_acculturation',\n",
       " 'US_state',\n",
       " 'US_totalYears',\n",
       " 'UYCSOCIAL',\n",
       " 'UY_cp',\n",
       " 'UY_departamento',\n",
       " 'UY_education_level',\n",
       " 'UY_education_level_hhousehold',\n",
       " 'UY_laboral_situation',\n",
       " 'UY_laboral_situation_hhousehold',\n",
       " 'UY_localidad',\n",
       " 'UY_NSE_barrio_RECO',\n",
       " 'UY_NSE_bath',\n",
       " 'UY_NSE_cars',\n",
       " 'UY_NSE_colorTV',\n",
       " 'UY_NSE_computer',\n",
       " 'UY_NSE_cond_air',\n",
       " 'UY_NSE_degree',\n",
       " 'UY_NSE_dishwash',\n",
       " 'UY_NSE_DVD',\n",
       " 'UY_NSE_freezer',\n",
       " 'UY_NSE_health',\n",
       " 'UY_NSE_maid',\n",
       " 'UY_NSE_microwave',\n",
       " 'UY_NSE_number_baths',\n",
       " 'UY_NSE_payTV',\n",
       " 'UY_NSE_roof',\n",
       " 'UY_NSE_telephone',\n",
       " 'UY_NSE_washmachine',\n",
       " 'VECSOCIAL',\n",
       " 'VE_cp',\n",
       " 'VE_dependencia_federal',\n",
       " 'VE_education_level',\n",
       " 'VE_education_level_hhousehold',\n",
       " 'VE_entidad_federal',\n",
       " 'VE_laboral_situation',\n",
       " 'VE_laboral_situation_hhousehold',\n",
       " 'VE_NSE_bath',\n",
       " 'VE_NSE_car',\n",
       " 'VE_NSE_housetype',\n",
       " 'VE_NSE_tv',\n",
       " 'DE_cp',\n",
       " 'DE_education_level',\n",
       " 'DE_education_level_hhousehold',\n",
       " 'DE_gemeindeverband',\n",
       " 'DE_kreis',\n",
       " 'DE_laboral_situation',\n",
       " 'DE_laboral_situation_hhousehold',\n",
       " 'DE_land',\n",
       " 'DE_mini_job',\n",
       " 'DE_occupation',\n",
       " 'DE_occupation_hhousehold',\n",
       " 'DE_occupation_hhousehold_ISCO',\n",
       " 'DE_occupation_ISCO',\n",
       " 'FR_commune',\n",
       " 'FR_cp',\n",
       " 'FR_departement',\n",
       " 'FR_education_level',\n",
       " 'FR_education_level_hhousehold',\n",
       " 'FR_habitatsize',\n",
       " 'FR_laboral_situation',\n",
       " 'FR_laboral_situation_hhousehold',\n",
       " 'FR_occupation',\n",
       " 'FR_occupation_hhousehold',\n",
       " 'FR_occupation_hhousehold_PCS',\n",
       " 'FR_occupation_PCS',\n",
       " 'fr_socialclass_sr',\n",
       " 'FR_timeoccupation',\n",
       " 'FR_timeoccupation_hhousehold',\n",
       " 'IT_comune',\n",
       " 'IT_cp',\n",
       " 'IT_education_level',\n",
       " 'IT_education_level_hhousehold',\n",
       " 'IT_laboral_situation',\n",
       " 'IT_laboral_situation_hhousehold',\n",
       " 'IT_occupation',\n",
       " 'IT_occupation_hhousehold',\n",
       " 'IT_occupation_hhousehold_ISCO',\n",
       " 'IT_occupation_ISCO',\n",
       " 'IT_provincia',\n",
       " 'GB_city',\n",
       " 'GB_county',\n",
       " 'GB_cp',\n",
       " 'GB_education_level',\n",
       " 'GB_education_level_hhousehold',\n",
       " 'GB_ethnic_group',\n",
       " 'GB_laboral_situation',\n",
       " 'GB_laboral_situation_hhousehold',\n",
       " 'GB_occupation',\n",
       " 'GB_occupation_hhousehold',\n",
       " 'GB_region',\n",
       " 'GB_socialclass_sr',\n",
       " 'EC_NSE_appliances#1',\n",
       " 'SV_NSE_comodities#1',\n",
       " 'SV_NSE_devices#1',\n",
       " 'VE_NSE_comodities#1',\n",
       " 'VE_NSE_devices#1',\n",
       " 'EC_NSE_appliances#2',\n",
       " 'SV_NSE_comodities#2',\n",
       " 'SV_NSE_devices#2',\n",
       " 'VE_NSE_comodities#2',\n",
       " 'VE_NSE_devices#2',\n",
       " 'EC_NSE_appliances#3',\n",
       " 'SV_NSE_comodities#3',\n",
       " 'SV_NSE_devices#3',\n",
       " 'VE_NSE_comodities#3',\n",
       " 'VE_NSE_devices#3',\n",
       " 'EC_NSE_appliances#4',\n",
       " 'SV_NSE_comodities#4',\n",
       " 'SV_NSE_devices#4',\n",
       " 'VE_NSE_comodities#4',\n",
       " 'VE_NSE_devices#4',\n",
       " 'EC_NSE_appliances#5',\n",
       " 'SV_NSE_comodities#5',\n",
       " 'SV_NSE_devices#5',\n",
       " 'VE_NSE_comodities#5',\n",
       " 'VE_NSE_devices#5',\n",
       " 'EC_NSE_appliances#6',\n",
       " 'SV_NSE_comodities#6',\n",
       " 'SV_NSE_devices#6',\n",
       " 'VE_NSE_comodities#6',\n",
       " 'VE_NSE_devices#6',\n",
       " 'SV_NSE_comodities#7',\n",
       " 'SV_NSE_devices#7',\n",
       " 'VE_NSE_comodities#7',\n",
       " 'VE_NSE_devices#7',\n",
       " 'SV_NSE_comodities#8',\n",
       " 'SV_NSE_devices#8',\n",
       " 'VE_NSE_devices#8',\n",
       " 'SV_NSE_devices#9',\n",
       " 'VE_NSE_devices#9',\n",
       " 'US_live_us_18',\n",
       " 'es_socialclass_1988_sr',\n",
       " 'es_socialclass_2015_sr',\n",
       " 'BO_P14',\n",
       " 'CR_P14',\n",
       " 'DO_P14',\n",
       " 'EC_P14',\n",
       " 'ES_P14',\n",
       " 'ES_P14_slider',\n",
       " 'ES_P14_numerica',\n",
       " 'GT_P14',\n",
       " 'HN_P14',\n",
       " 'NI_P14',\n",
       " 'PA_P14',\n",
       " 'PR_P14',\n",
       " 'PT_P14',\n",
       " 'PY_P14',\n",
       " 'SV_P14',\n",
       " 'US_P14',\n",
       " 'UY_P14',\n",
       " 'VE_P14',\n",
       " 'DE_P14',\n",
       " 'FR_P14',\n",
       " 'IT_P14',\n",
       " 'GB_P14',\n",
       " 'ES_P14_slider_V2',\n",
       " 'ES_P14_slider_V3']"
      ]
     },
     "execution_count": 65,
     "metadata": {},
     "output_type": "execute_result"
    }
   ],
   "source": [
    "list(filter(lambda x: sum([x in v[1].Variable.unique() for v in variables_dict.items()])==0, variables.Variable))"
   ]
  },
  {
   "cell_type": "code",
   "execution_count": null,
   "metadata": {},
   "outputs": [],
   "source": []
  }
 ],
 "metadata": {
  "kernelspec": {
   "display_name": "Python 3",
   "language": "python",
   "name": "python3"
  },
  "language_info": {
   "codemirror_mode": {
    "name": "ipython",
    "version": 3
   },
   "file_extension": ".py",
   "mimetype": "text/x-python",
   "name": "python",
   "nbconvert_exporter": "python",
   "pygments_lexer": "ipython3",
   "version": "3.7.3"
  }
 },
 "nbformat": 4,
 "nbformat_minor": 2
}
